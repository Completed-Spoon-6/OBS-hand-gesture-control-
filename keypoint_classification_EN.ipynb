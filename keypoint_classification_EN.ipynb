{
 "cells": [
  {
   "cell_type": "code",
   "execution_count": 1,
   "metadata": {
    "id": "igMyGnjE9hEp"
   },
   "outputs": [
    {
     "name": "stderr",
     "output_type": "stream",
     "text": [
      "2024-02-02 16:16:27.467545: I tensorflow/core/platform/cpu_feature_guard.cc:182] This TensorFlow binary is optimized to use available CPU instructions in performance-critical operations.\n",
      "To enable the following instructions: SSE4.1 SSE4.2, in other operations, rebuild TensorFlow with the appropriate compiler flags.\n"
     ]
    }
   ],
   "source": [
    "import csv\n",
    "\n",
    "import numpy as np\n",
    "import tensorflow as tf\n",
    "from sklearn.model_selection import train_test_split\n",
    "\n",
    "RANDOM_SEED = 42"
   ]
  },
  {
   "cell_type": "markdown",
   "metadata": {
    "id": "t2HDvhIu9hEr"
   },
   "source": [
    "# Specify each path"
   ]
  },
  {
   "cell_type": "code",
   "execution_count": 2,
   "metadata": {
    "id": "9NvZP2Zn9hEy"
   },
   "outputs": [],
   "source": [
    "dataset = 'model/keypoint_classifier/keypoint.csv'\n",
    "model_save_path = 'model/keypoint_classifier/keypoint_classifier.hdf5'\n",
    "tflite_save_path = 'model/keypoint_classifier/keypoint_classifier.tflite'"
   ]
  },
  {
   "cell_type": "markdown",
   "metadata": {
    "id": "s5oMH7x19hEz"
   },
   "source": [
    "# Set number of classes"
   ]
  },
  {
   "cell_type": "code",
   "execution_count": 3,
   "metadata": {
    "id": "du4kodXL9hEz"
   },
   "outputs": [],
   "source": [
    "NUM_CLASSES = 6"
   ]
  },
  {
   "cell_type": "markdown",
   "metadata": {
    "id": "XjnL0uso9hEz"
   },
   "source": [
    "# Dataset reading"
   ]
  },
  {
   "cell_type": "code",
   "execution_count": 4,
   "metadata": {
    "id": "QT5ZqtEz9hE0"
   },
   "outputs": [],
   "source": [
    "X_dataset = np.loadtxt(dataset, delimiter=',', dtype='float32', usecols=list(range(1, (21 * 2) + 1)))"
   ]
  },
  {
   "cell_type": "code",
   "execution_count": 5,
   "metadata": {
    "id": "QmoKFsp49hE0"
   },
   "outputs": [],
   "source": [
    "y_dataset = np.loadtxt(dataset, delimiter=',', dtype='int32', usecols=(0))"
   ]
  },
  {
   "cell_type": "code",
   "execution_count": 6,
   "metadata": {
    "id": "xQU7JTZ_9hE0"
   },
   "outputs": [],
   "source": [
    "X_train, X_test, y_train, y_test = train_test_split(X_dataset, y_dataset, train_size=0.75, random_state=RANDOM_SEED)"
   ]
  },
  {
   "cell_type": "markdown",
   "metadata": {
    "id": "mxK_lETT9hE0"
   },
   "source": [
    "# Model building"
   ]
  },
  {
   "cell_type": "code",
   "execution_count": 7,
   "metadata": {
    "id": "vHBmUf1t9hE1"
   },
   "outputs": [],
   "source": [
    "model = tf.keras.models.Sequential([\n",
    "    tf.keras.layers.Input((21 * 2, )),\n",
    "    tf.keras.layers.Dropout(0.2),\n",
    "    tf.keras.layers.Dense(20, activation='relu'),\n",
    "    tf.keras.layers.Dropout(0.4),\n",
    "    tf.keras.layers.Dense(10, activation='relu'),\n",
    "    tf.keras.layers.Dense(NUM_CLASSES, activation='softmax')\n",
    "])"
   ]
  },
  {
   "cell_type": "code",
   "execution_count": 8,
   "metadata": {
    "colab": {
     "base_uri": "https://localhost:8080/"
    },
    "id": "ypqky9tc9hE1",
    "outputId": "5db082bb-30e3-4110-bf63-a1ee777ecd46"
   },
   "outputs": [
    {
     "name": "stdout",
     "output_type": "stream",
     "text": [
      "Model: \"sequential\"\n",
      "_________________________________________________________________\n",
      " Layer (type)                Output Shape              Param #   \n",
      "=================================================================\n",
      " dropout (Dropout)           (None, 42)                0         \n",
      "                                                                 \n",
      " dense (Dense)               (None, 20)                860       \n",
      "                                                                 \n",
      " dropout_1 (Dropout)         (None, 20)                0         \n",
      "                                                                 \n",
      " dense_1 (Dense)             (None, 10)                210       \n",
      "                                                                 \n",
      " dense_2 (Dense)             (None, 6)                 66        \n",
      "                                                                 \n",
      "=================================================================\n",
      "Total params: 1,136\n",
      "Trainable params: 1,136\n",
      "Non-trainable params: 0\n",
      "_________________________________________________________________\n"
     ]
    }
   ],
   "source": [
    "model.summary()  # tf.keras.utils.plot_model(model, show_shapes=True)"
   ]
  },
  {
   "cell_type": "code",
   "execution_count": 9,
   "metadata": {
    "id": "MbMjOflQ9hE1"
   },
   "outputs": [],
   "source": [
    "# Model checkpoint callback\n",
    "cp_callback = tf.keras.callbacks.ModelCheckpoint(\n",
    "    model_save_path, verbose=1, save_weights_only=False)\n",
    "# Callback for early stopping\n",
    "es_callback = tf.keras.callbacks.EarlyStopping(patience=20, verbose=1)"
   ]
  },
  {
   "cell_type": "code",
   "execution_count": 10,
   "metadata": {
    "id": "c3Dac0M_9hE2"
   },
   "outputs": [],
   "source": [
    "# Model compilation\n",
    "model.compile(\n",
    "    optimizer='adam',\n",
    "    loss='sparse_categorical_crossentropy',\n",
    "    metrics=['accuracy']\n",
    ")"
   ]
  },
  {
   "cell_type": "markdown",
   "metadata": {
    "id": "7XI0j1Iu9hE2"
   },
   "source": [
    "# Model training"
   ]
  },
  {
   "cell_type": "code",
   "execution_count": 11,
   "metadata": {
    "colab": {
     "base_uri": "https://localhost:8080/"
    },
    "id": "WirBl-JE9hE3",
    "outputId": "71b30ca2-8294-4d9d-8aa2-800d90d399de",
    "scrolled": true
   },
   "outputs": [
    {
     "name": "stdout",
     "output_type": "stream",
     "text": [
      "Epoch 1/1000\n",
      " 1/31 [..............................] - ETA: 12s - loss: 1.9732 - accuracy: 0.1641\n",
      "Epoch 1: saving model to model/keypoint_classifier/keypoint_classifier.hdf5\n",
      "31/31 [==============================] - 1s 6ms/step - loss: 1.8230 - accuracy: 0.2137 - val_loss: 1.6718 - val_accuracy: 0.3477\n",
      "Epoch 2/1000\n",
      " 1/31 [..............................] - ETA: 0s - loss: 1.7464 - accuracy: 0.2188\n",
      "Epoch 2: saving model to model/keypoint_classifier/keypoint_classifier.hdf5\n",
      "31/31 [==============================] - 0s 2ms/step - loss: 1.6628 - accuracy: 0.2976 - val_loss: 1.5450 - val_accuracy: 0.4977\n",
      "Epoch 3/1000\n",
      " 1/31 [..............................] - ETA: 0s - loss: 1.6517 - accuracy: 0.2812\n",
      "Epoch 3: saving model to model/keypoint_classifier/keypoint_classifier.hdf5\n",
      "31/31 [==============================] - 0s 2ms/step - loss: 1.5516 - accuracy: 0.3543 - val_loss: 1.4037 - val_accuracy: 0.5500\n",
      "Epoch 4/1000\n",
      " 1/31 [..............................] - ETA: 0s - loss: 1.4377 - accuracy: 0.4375\n",
      "Epoch 4: saving model to model/keypoint_classifier/keypoint_classifier.hdf5\n",
      "31/31 [==============================] - 0s 2ms/step - loss: 1.4375 - accuracy: 0.4023 - val_loss: 1.2937 - val_accuracy: 0.5623\n",
      "Epoch 5/1000\n",
      " 1/31 [..............................] - ETA: 0s - loss: 1.3931 - accuracy: 0.3984\n",
      "Epoch 5: saving model to model/keypoint_classifier/keypoint_classifier.hdf5\n",
      "31/31 [==============================] - 0s 2ms/step - loss: 1.3707 - accuracy: 0.4153 - val_loss: 1.2243 - val_accuracy: 0.5777\n",
      "Epoch 6/1000\n",
      " 1/31 [..............................] - ETA: 0s - loss: 1.3541 - accuracy: 0.4297\n",
      "Epoch 6: saving model to model/keypoint_classifier/keypoint_classifier.hdf5\n",
      "31/31 [==============================] - 0s 2ms/step - loss: 1.3176 - accuracy: 0.4448 - val_loss: 1.1682 - val_accuracy: 0.6015\n",
      "Epoch 7/1000\n",
      " 1/31 [..............................] - ETA: 0s - loss: 1.4223 - accuracy: 0.4219\n",
      "Epoch 7: saving model to model/keypoint_classifier/keypoint_classifier.hdf5\n",
      "31/31 [==============================] - 0s 2ms/step - loss: 1.2841 - accuracy: 0.4649 - val_loss: 1.1123 - val_accuracy: 0.6238\n",
      "Epoch 8/1000\n",
      " 1/31 [..............................] - ETA: 0s - loss: 1.3351 - accuracy: 0.4375\n",
      "Epoch 8: saving model to model/keypoint_classifier/keypoint_classifier.hdf5\n",
      "31/31 [==============================] - 0s 2ms/step - loss: 1.2423 - accuracy: 0.4867 - val_loss: 1.0593 - val_accuracy: 0.6292\n",
      "Epoch 9/1000\n",
      " 1/31 [..............................] - ETA: 0s - loss: 1.2973 - accuracy: 0.4922\n",
      "Epoch 9: saving model to model/keypoint_classifier/keypoint_classifier.hdf5\n",
      "31/31 [==============================] - 0s 2ms/step - loss: 1.2031 - accuracy: 0.4977 - val_loss: 1.0058 - val_accuracy: 0.6662\n",
      "Epoch 10/1000\n",
      " 1/31 [..............................] - ETA: 0s - loss: 1.1764 - accuracy: 0.5391\n",
      "Epoch 10: saving model to model/keypoint_classifier/keypoint_classifier.hdf5\n",
      "31/31 [==============================] - 0s 2ms/step - loss: 1.1543 - accuracy: 0.5259 - val_loss: 0.9637 - val_accuracy: 0.6754\n",
      "Epoch 11/1000\n",
      " 1/31 [..............................] - ETA: 0s - loss: 1.0965 - accuracy: 0.5469\n",
      "Epoch 11: saving model to model/keypoint_classifier/keypoint_classifier.hdf5\n",
      "31/31 [==============================] - 0s 2ms/step - loss: 1.1357 - accuracy: 0.5344 - val_loss: 0.9205 - val_accuracy: 0.6862\n",
      "Epoch 12/1000\n",
      " 1/31 [..............................] - ETA: 0s - loss: 1.1047 - accuracy: 0.5156\n",
      "Epoch 12: saving model to model/keypoint_classifier/keypoint_classifier.hdf5\n",
      "31/31 [==============================] - 0s 2ms/step - loss: 1.1190 - accuracy: 0.5385 - val_loss: 0.8749 - val_accuracy: 0.7223\n",
      "Epoch 13/1000\n",
      " 1/31 [..............................] - ETA: 0s - loss: 1.0272 - accuracy: 0.5547\n",
      "Epoch 13: saving model to model/keypoint_classifier/keypoint_classifier.hdf5\n",
      "31/31 [==============================] - 0s 2ms/step - loss: 1.0809 - accuracy: 0.5716 - val_loss: 0.8440 - val_accuracy: 0.7523\n",
      "Epoch 14/1000\n",
      " 1/31 [..............................] - ETA: 0s - loss: 1.0451 - accuracy: 0.5547\n",
      "Epoch 14: saving model to model/keypoint_classifier/keypoint_classifier.hdf5\n",
      "31/31 [==============================] - 0s 2ms/step - loss: 1.0601 - accuracy: 0.5685 - val_loss: 0.8023 - val_accuracy: 0.7938\n",
      "Epoch 15/1000\n",
      " 1/31 [..............................] - ETA: 0s - loss: 1.1208 - accuracy: 0.5391\n",
      "Epoch 15: saving model to model/keypoint_classifier/keypoint_classifier.hdf5\n",
      "31/31 [==============================] - 0s 2ms/step - loss: 1.0287 - accuracy: 0.5877 - val_loss: 0.7768 - val_accuracy: 0.7892\n",
      "Epoch 16/1000\n",
      " 1/31 [..............................] - ETA: 0s - loss: 0.8920 - accuracy: 0.6953\n",
      "Epoch 16: saving model to model/keypoint_classifier/keypoint_classifier.hdf5\n",
      "31/31 [==============================] - 0s 2ms/step - loss: 1.0218 - accuracy: 0.5834 - val_loss: 0.7477 - val_accuracy: 0.8108\n",
      "Epoch 17/1000\n",
      " 1/31 [..............................] - ETA: 0s - loss: 1.0743 - accuracy: 0.5078\n",
      "Epoch 17: saving model to model/keypoint_classifier/keypoint_classifier.hdf5\n",
      "31/31 [==============================] - 0s 2ms/step - loss: 1.0002 - accuracy: 0.6052 - val_loss: 0.7254 - val_accuracy: 0.8077\n",
      "Epoch 18/1000\n",
      " 1/31 [..............................] - ETA: 0s - loss: 0.8919 - accuracy: 0.7109\n",
      "Epoch 18: saving model to model/keypoint_classifier/keypoint_classifier.hdf5\n",
      "31/31 [==============================] - 0s 2ms/step - loss: 0.9682 - accuracy: 0.6157 - val_loss: 0.6940 - val_accuracy: 0.8208\n",
      "Epoch 19/1000\n",
      " 1/31 [..............................] - ETA: 0s - loss: 0.9427 - accuracy: 0.6094\n",
      "Epoch 19: saving model to model/keypoint_classifier/keypoint_classifier.hdf5\n",
      "31/31 [==============================] - 0s 2ms/step - loss: 0.9728 - accuracy: 0.6149 - val_loss: 0.6758 - val_accuracy: 0.8338\n",
      "Epoch 20/1000\n",
      " 1/31 [..............................] - ETA: 0s - loss: 0.9540 - accuracy: 0.5781\n",
      "Epoch 20: saving model to model/keypoint_classifier/keypoint_classifier.hdf5\n",
      "31/31 [==============================] - 0s 2ms/step - loss: 0.9477 - accuracy: 0.6267 - val_loss: 0.6553 - val_accuracy: 0.8415\n",
      "Epoch 21/1000\n",
      " 1/31 [..............................] - ETA: 0s - loss: 0.8877 - accuracy: 0.6953\n",
      "Epoch 21: saving model to model/keypoint_classifier/keypoint_classifier.hdf5\n",
      "31/31 [==============================] - 0s 2ms/step - loss: 0.9420 - accuracy: 0.6293 - val_loss: 0.6389 - val_accuracy: 0.8462\n",
      "Epoch 22/1000\n",
      " 1/31 [..............................] - ETA: 0s - loss: 0.9475 - accuracy: 0.5859\n",
      "Epoch 22: saving model to model/keypoint_classifier/keypoint_classifier.hdf5\n",
      "31/31 [==============================] - 0s 2ms/step - loss: 0.9282 - accuracy: 0.6339 - val_loss: 0.6220 - val_accuracy: 0.8462\n",
      "Epoch 23/1000\n",
      " 1/31 [..............................] - ETA: 0s - loss: 0.9737 - accuracy: 0.6406\n",
      "Epoch 23: saving model to model/keypoint_classifier/keypoint_classifier.hdf5\n",
      "31/31 [==============================] - 0s 2ms/step - loss: 0.8964 - accuracy: 0.6521 - val_loss: 0.5958 - val_accuracy: 0.8508\n",
      "Epoch 24/1000\n",
      " 1/31 [..............................] - ETA: 0s - loss: 0.9898 - accuracy: 0.5781\n",
      "Epoch 24: saving model to model/keypoint_classifier/keypoint_classifier.hdf5\n",
      "31/31 [==============================] - 0s 2ms/step - loss: 0.9064 - accuracy: 0.6460 - val_loss: 0.5824 - val_accuracy: 0.8592\n",
      "Epoch 25/1000\n",
      " 1/31 [..............................] - ETA: 0s - loss: 0.8725 - accuracy: 0.7266\n",
      "Epoch 25: saving model to model/keypoint_classifier/keypoint_classifier.hdf5\n",
      "31/31 [==============================] - 0s 2ms/step - loss: 0.8834 - accuracy: 0.6506 - val_loss: 0.5656 - val_accuracy: 0.8646\n",
      "Epoch 26/1000\n",
      " 1/31 [..............................] - ETA: 0s - loss: 0.9911 - accuracy: 0.5938\n",
      "Epoch 26: saving model to model/keypoint_classifier/keypoint_classifier.hdf5\n",
      "31/31 [==============================] - 0s 2ms/step - loss: 0.8831 - accuracy: 0.6526 - val_loss: 0.5490 - val_accuracy: 0.8754\n",
      "Epoch 27/1000\n",
      " 1/31 [..............................] - ETA: 0s - loss: 0.9688 - accuracy: 0.5781\n",
      "Epoch 27: saving model to model/keypoint_classifier/keypoint_classifier.hdf5\n",
      "31/31 [==============================] - 0s 2ms/step - loss: 0.8685 - accuracy: 0.6642 - val_loss: 0.5384 - val_accuracy: 0.8869\n",
      "Epoch 28/1000\n",
      " 1/31 [..............................] - ETA: 0s - loss: 0.8981 - accuracy: 0.6406\n",
      "Epoch 28: saving model to model/keypoint_classifier/keypoint_classifier.hdf5\n",
      "31/31 [==============================] - 0s 2ms/step - loss: 0.8725 - accuracy: 0.6634 - val_loss: 0.5342 - val_accuracy: 0.8892\n",
      "Epoch 29/1000\n",
      " 1/31 [..............................] - ETA: 0s - loss: 0.8710 - accuracy: 0.6875\n",
      "Epoch 29: saving model to model/keypoint_classifier/keypoint_classifier.hdf5\n",
      "31/31 [==============================] - 0s 2ms/step - loss: 0.8738 - accuracy: 0.6621 - val_loss: 0.5180 - val_accuracy: 0.9023\n",
      "Epoch 30/1000\n",
      " 1/31 [..............................] - ETA: 0s - loss: 0.7589 - accuracy: 0.7266\n",
      "Epoch 30: saving model to model/keypoint_classifier/keypoint_classifier.hdf5\n",
      "31/31 [==============================] - 0s 2ms/step - loss: 0.8425 - accuracy: 0.6793 - val_loss: 0.5036 - val_accuracy: 0.9038\n",
      "Epoch 31/1000\n",
      " 1/31 [..............................] - ETA: 0s - loss: 0.8177 - accuracy: 0.6797\n",
      "Epoch 31: saving model to model/keypoint_classifier/keypoint_classifier.hdf5\n",
      "31/31 [==============================] - 0s 2ms/step - loss: 0.8429 - accuracy: 0.6742 - val_loss: 0.4931 - val_accuracy: 0.9108\n",
      "Epoch 32/1000\n",
      " 1/31 [..............................] - ETA: 0s - loss: 0.8853 - accuracy: 0.6250\n",
      "Epoch 32: saving model to model/keypoint_classifier/keypoint_classifier.hdf5\n",
      "31/31 [==============================] - 0s 2ms/step - loss: 0.8442 - accuracy: 0.6762 - val_loss: 0.4947 - val_accuracy: 0.9154\n",
      "Epoch 33/1000\n",
      " 1/31 [..............................] - ETA: 0s - loss: 0.7789 - accuracy: 0.7031\n",
      "Epoch 33: saving model to model/keypoint_classifier/keypoint_classifier.hdf5\n",
      "31/31 [==============================] - 0s 2ms/step - loss: 0.8192 - accuracy: 0.6906 - val_loss: 0.4759 - val_accuracy: 0.9131\n",
      "Epoch 34/1000\n",
      " 1/31 [..............................] - ETA: 0s - loss: 0.7835 - accuracy: 0.7188\n",
      "Epoch 34: saving model to model/keypoint_classifier/keypoint_classifier.hdf5\n",
      "31/31 [==============================] - 0s 2ms/step - loss: 0.8094 - accuracy: 0.6870 - val_loss: 0.4708 - val_accuracy: 0.9185\n",
      "Epoch 35/1000\n",
      " 1/31 [..............................] - ETA: 0s - loss: 0.7818 - accuracy: 0.6797\n",
      "Epoch 35: saving model to model/keypoint_classifier/keypoint_classifier.hdf5\n",
      "31/31 [==============================] - 0s 2ms/step - loss: 0.7969 - accuracy: 0.6947 - val_loss: 0.4537 - val_accuracy: 0.9231\n",
      "Epoch 36/1000\n",
      " 1/31 [..............................] - ETA: 0s - loss: 0.7367 - accuracy: 0.7031\n",
      "Epoch 36: saving model to model/keypoint_classifier/keypoint_classifier.hdf5\n",
      "31/31 [==============================] - 0s 2ms/step - loss: 0.7961 - accuracy: 0.6978 - val_loss: 0.4529 - val_accuracy: 0.9192\n",
      "Epoch 37/1000\n",
      " 1/31 [..............................] - ETA: 0s - loss: 0.7253 - accuracy: 0.7500\n",
      "Epoch 37: saving model to model/keypoint_classifier/keypoint_classifier.hdf5\n",
      "31/31 [==============================] - 0s 2ms/step - loss: 0.7857 - accuracy: 0.7093 - val_loss: 0.4470 - val_accuracy: 0.9269\n",
      "Epoch 38/1000\n",
      " 1/31 [..............................] - ETA: 0s - loss: 0.8755 - accuracy: 0.7188\n",
      "Epoch 38: saving model to model/keypoint_classifier/keypoint_classifier.hdf5\n",
      "31/31 [==============================] - 0s 2ms/step - loss: 0.7954 - accuracy: 0.7032 - val_loss: 0.4346 - val_accuracy: 0.9238\n",
      "Epoch 39/1000\n",
      " 1/31 [..............................] - ETA: 0s - loss: 0.8373 - accuracy: 0.6797\n",
      "Epoch 39: saving model to model/keypoint_classifier/keypoint_classifier.hdf5\n",
      "31/31 [==============================] - 0s 2ms/step - loss: 0.8014 - accuracy: 0.7004 - val_loss: 0.4383 - val_accuracy: 0.9269\n",
      "Epoch 40/1000\n",
      " 1/31 [..............................] - ETA: 0s - loss: 0.8034 - accuracy: 0.6953\n",
      "Epoch 40: saving model to model/keypoint_classifier/keypoint_classifier.hdf5\n",
      "31/31 [==============================] - 0s 2ms/step - loss: 0.7568 - accuracy: 0.7178 - val_loss: 0.4191 - val_accuracy: 0.9308\n",
      "Epoch 41/1000\n",
      " 1/31 [..............................] - ETA: 0s - loss: 0.6922 - accuracy: 0.7188\n",
      "Epoch 41: saving model to model/keypoint_classifier/keypoint_classifier.hdf5\n",
      "31/31 [==============================] - 0s 2ms/step - loss: 0.7851 - accuracy: 0.7073 - val_loss: 0.4216 - val_accuracy: 0.9308\n",
      "Epoch 42/1000\n",
      " 1/31 [..............................] - ETA: 0s - loss: 0.8609 - accuracy: 0.6797\n",
      "Epoch 42: saving model to model/keypoint_classifier/keypoint_classifier.hdf5\n",
      "31/31 [==============================] - 0s 2ms/step - loss: 0.7862 - accuracy: 0.7096 - val_loss: 0.4195 - val_accuracy: 0.9285\n",
      "Epoch 43/1000\n",
      " 1/31 [..............................] - ETA: 0s - loss: 0.8176 - accuracy: 0.6562\n",
      "Epoch 43: saving model to model/keypoint_classifier/keypoint_classifier.hdf5\n",
      "31/31 [==============================] - 0s 2ms/step - loss: 0.7560 - accuracy: 0.7129 - val_loss: 0.4087 - val_accuracy: 0.9369\n",
      "Epoch 44/1000\n",
      " 1/31 [..............................] - ETA: 0s - loss: 0.6274 - accuracy: 0.7500\n",
      "Epoch 44: saving model to model/keypoint_classifier/keypoint_classifier.hdf5\n",
      "31/31 [==============================] - 0s 2ms/step - loss: 0.7617 - accuracy: 0.7129 - val_loss: 0.3979 - val_accuracy: 0.9369\n",
      "Epoch 45/1000\n",
      " 1/31 [..............................] - ETA: 0s - loss: 0.8562 - accuracy: 0.6719\n",
      "Epoch 45: saving model to model/keypoint_classifier/keypoint_classifier.hdf5\n",
      "31/31 [==============================] - 0s 2ms/step - loss: 0.7617 - accuracy: 0.7063 - val_loss: 0.3986 - val_accuracy: 0.9308\n",
      "Epoch 46/1000\n",
      " 1/31 [..............................] - ETA: 0s - loss: 0.7458 - accuracy: 0.7266\n",
      "Epoch 46: saving model to model/keypoint_classifier/keypoint_classifier.hdf5\n",
      "31/31 [==============================] - 0s 2ms/step - loss: 0.7517 - accuracy: 0.7306 - val_loss: 0.3912 - val_accuracy: 0.9338\n",
      "Epoch 47/1000\n",
      " 1/31 [..............................] - ETA: 0s - loss: 0.8086 - accuracy: 0.7109\n",
      "Epoch 47: saving model to model/keypoint_classifier/keypoint_classifier.hdf5\n",
      "31/31 [==============================] - 0s 2ms/step - loss: 0.7651 - accuracy: 0.7178 - val_loss: 0.3850 - val_accuracy: 0.9400\n",
      "Epoch 48/1000\n",
      " 1/31 [..............................] - ETA: 0s - loss: 0.5992 - accuracy: 0.7969\n",
      "Epoch 48: saving model to model/keypoint_classifier/keypoint_classifier.hdf5\n",
      "31/31 [==============================] - 0s 2ms/step - loss: 0.7294 - accuracy: 0.7311 - val_loss: 0.3870 - val_accuracy: 0.9338\n",
      "Epoch 49/1000\n",
      " 1/31 [..............................] - ETA: 0s - loss: 0.6466 - accuracy: 0.7656\n",
      "Epoch 49: saving model to model/keypoint_classifier/keypoint_classifier.hdf5\n",
      "31/31 [==============================] - 0s 2ms/step - loss: 0.7414 - accuracy: 0.7245 - val_loss: 0.3826 - val_accuracy: 0.9400\n",
      "Epoch 50/1000\n",
      " 1/31 [..............................] - ETA: 0s - loss: 0.7647 - accuracy: 0.7109\n",
      "Epoch 50: saving model to model/keypoint_classifier/keypoint_classifier.hdf5\n",
      "31/31 [==============================] - 0s 2ms/step - loss: 0.7385 - accuracy: 0.7276 - val_loss: 0.3777 - val_accuracy: 0.9346\n",
      "Epoch 51/1000\n",
      " 1/31 [..............................] - ETA: 0s - loss: 0.7979 - accuracy: 0.6953\n",
      "Epoch 51: saving model to model/keypoint_classifier/keypoint_classifier.hdf5\n",
      "31/31 [==============================] - 0s 2ms/step - loss: 0.7349 - accuracy: 0.7291 - val_loss: 0.3720 - val_accuracy: 0.9385\n",
      "Epoch 52/1000\n",
      " 1/31 [..............................] - ETA: 0s - loss: 0.7498 - accuracy: 0.7031\n",
      "Epoch 52: saving model to model/keypoint_classifier/keypoint_classifier.hdf5\n",
      "31/31 [==============================] - 0s 2ms/step - loss: 0.7282 - accuracy: 0.7337 - val_loss: 0.3722 - val_accuracy: 0.9369\n",
      "Epoch 53/1000\n",
      " 1/31 [..............................] - ETA: 0s - loss: 0.7402 - accuracy: 0.7031\n",
      "Epoch 53: saving model to model/keypoint_classifier/keypoint_classifier.hdf5\n",
      "31/31 [==============================] - 0s 2ms/step - loss: 0.7344 - accuracy: 0.7232 - val_loss: 0.3714 - val_accuracy: 0.9354\n",
      "Epoch 54/1000\n",
      " 1/31 [..............................] - ETA: 0s - loss: 0.7446 - accuracy: 0.7422\n",
      "Epoch 54: saving model to model/keypoint_classifier/keypoint_classifier.hdf5\n",
      "31/31 [==============================] - 0s 2ms/step - loss: 0.7308 - accuracy: 0.7263 - val_loss: 0.3663 - val_accuracy: 0.9385\n",
      "Epoch 55/1000\n",
      " 1/31 [..............................] - ETA: 0s - loss: 0.7691 - accuracy: 0.7266\n",
      "Epoch 55: saving model to model/keypoint_classifier/keypoint_classifier.hdf5\n",
      "31/31 [==============================] - 0s 2ms/step - loss: 0.7057 - accuracy: 0.7376 - val_loss: 0.3577 - val_accuracy: 0.9385\n",
      "Epoch 56/1000\n",
      " 1/31 [..............................] - ETA: 0s - loss: 0.6269 - accuracy: 0.7578\n",
      "Epoch 56: saving model to model/keypoint_classifier/keypoint_classifier.hdf5\n",
      "31/31 [==============================] - 0s 2ms/step - loss: 0.7034 - accuracy: 0.7406 - val_loss: 0.3462 - val_accuracy: 0.9385\n",
      "Epoch 57/1000\n",
      " 1/31 [..............................] - ETA: 0s - loss: 0.6466 - accuracy: 0.7656\n",
      "Epoch 57: saving model to model/keypoint_classifier/keypoint_classifier.hdf5\n",
      "31/31 [==============================] - 0s 2ms/step - loss: 0.7094 - accuracy: 0.7324 - val_loss: 0.3551 - val_accuracy: 0.9392\n",
      "Epoch 58/1000\n",
      " 1/31 [..............................] - ETA: 0s - loss: 0.6047 - accuracy: 0.7344\n",
      "Epoch 58: saving model to model/keypoint_classifier/keypoint_classifier.hdf5\n",
      "31/31 [==============================] - 0s 2ms/step - loss: 0.6927 - accuracy: 0.7383 - val_loss: 0.3440 - val_accuracy: 0.9392\n",
      "Epoch 59/1000\n",
      " 1/31 [..............................] - ETA: 0s - loss: 0.7673 - accuracy: 0.6719\n",
      "Epoch 59: saving model to model/keypoint_classifier/keypoint_classifier.hdf5\n",
      "31/31 [==============================] - 0s 2ms/step - loss: 0.7178 - accuracy: 0.7319 - val_loss: 0.3403 - val_accuracy: 0.9362\n",
      "Epoch 60/1000\n",
      " 1/31 [..............................] - ETA: 0s - loss: 0.7965 - accuracy: 0.7109\n",
      "Epoch 60: saving model to model/keypoint_classifier/keypoint_classifier.hdf5\n",
      "31/31 [==============================] - 0s 2ms/step - loss: 0.6888 - accuracy: 0.7463 - val_loss: 0.3381 - val_accuracy: 0.9377\n",
      "Epoch 61/1000\n",
      " 1/31 [..............................] - ETA: 0s - loss: 0.6358 - accuracy: 0.8047\n",
      "Epoch 61: saving model to model/keypoint_classifier/keypoint_classifier.hdf5\n",
      "31/31 [==============================] - 0s 2ms/step - loss: 0.7155 - accuracy: 0.7268 - val_loss: 0.3407 - val_accuracy: 0.9400\n",
      "Epoch 62/1000\n",
      " 1/31 [..............................] - ETA: 0s - loss: 0.7144 - accuracy: 0.6953\n",
      "Epoch 62: saving model to model/keypoint_classifier/keypoint_classifier.hdf5\n",
      "31/31 [==============================] - 0s 2ms/step - loss: 0.7068 - accuracy: 0.7342 - val_loss: 0.3412 - val_accuracy: 0.9377\n",
      "Epoch 63/1000\n",
      " 1/31 [..............................] - ETA: 0s - loss: 0.7878 - accuracy: 0.6641\n",
      "Epoch 63: saving model to model/keypoint_classifier/keypoint_classifier.hdf5\n",
      "31/31 [==============================] - 0s 2ms/step - loss: 0.6903 - accuracy: 0.7427 - val_loss: 0.3320 - val_accuracy: 0.9362\n",
      "Epoch 64/1000\n",
      " 1/31 [..............................] - ETA: 0s - loss: 0.6641 - accuracy: 0.7500\n",
      "Epoch 64: saving model to model/keypoint_classifier/keypoint_classifier.hdf5\n",
      "31/31 [==============================] - 0s 2ms/step - loss: 0.6772 - accuracy: 0.7512 - val_loss: 0.3361 - val_accuracy: 0.9423\n",
      "Epoch 65/1000\n",
      " 1/31 [..............................] - ETA: 0s - loss: 0.8061 - accuracy: 0.6719\n",
      "Epoch 65: saving model to model/keypoint_classifier/keypoint_classifier.hdf5\n",
      "31/31 [==============================] - 0s 2ms/step - loss: 0.6843 - accuracy: 0.7424 - val_loss: 0.3320 - val_accuracy: 0.9423\n",
      "Epoch 66/1000\n",
      " 1/31 [..............................] - ETA: 0s - loss: 0.7411 - accuracy: 0.7031\n",
      "Epoch 66: saving model to model/keypoint_classifier/keypoint_classifier.hdf5\n",
      "31/31 [==============================] - 0s 2ms/step - loss: 0.6827 - accuracy: 0.7445 - val_loss: 0.3265 - val_accuracy: 0.9423\n",
      "Epoch 67/1000\n",
      " 1/31 [..............................] - ETA: 0s - loss: 0.6997 - accuracy: 0.7188\n",
      "Epoch 67: saving model to model/keypoint_classifier/keypoint_classifier.hdf5\n",
      "31/31 [==============================] - 0s 2ms/step - loss: 0.6884 - accuracy: 0.7427 - val_loss: 0.3289 - val_accuracy: 0.9385\n",
      "Epoch 68/1000\n",
      " 1/31 [..............................] - ETA: 0s - loss: 0.7110 - accuracy: 0.7344\n",
      "Epoch 68: saving model to model/keypoint_classifier/keypoint_classifier.hdf5\n",
      "31/31 [==============================] - 0s 2ms/step - loss: 0.6954 - accuracy: 0.7470 - val_loss: 0.3264 - val_accuracy: 0.9408\n",
      "Epoch 69/1000\n",
      " 1/31 [..............................] - ETA: 0s - loss: 0.6036 - accuracy: 0.7812\n",
      "Epoch 69: saving model to model/keypoint_classifier/keypoint_classifier.hdf5\n",
      "31/31 [==============================] - 0s 2ms/step - loss: 0.6688 - accuracy: 0.7550 - val_loss: 0.3158 - val_accuracy: 0.9408\n",
      "Epoch 70/1000\n",
      " 1/31 [..............................] - ETA: 0s - loss: 0.6707 - accuracy: 0.7109\n",
      "Epoch 70: saving model to model/keypoint_classifier/keypoint_classifier.hdf5\n",
      "31/31 [==============================] - 0s 2ms/step - loss: 0.6851 - accuracy: 0.7429 - val_loss: 0.3147 - val_accuracy: 0.9408\n",
      "Epoch 71/1000\n",
      " 1/31 [..............................] - ETA: 0s - loss: 0.7871 - accuracy: 0.6562\n",
      "Epoch 71: saving model to model/keypoint_classifier/keypoint_classifier.hdf5\n",
      "31/31 [==============================] - 0s 2ms/step - loss: 0.6762 - accuracy: 0.7509 - val_loss: 0.3201 - val_accuracy: 0.9385\n",
      "Epoch 72/1000\n",
      " 1/31 [..............................] - ETA: 0s - loss: 0.6720 - accuracy: 0.7812\n",
      "Epoch 72: saving model to model/keypoint_classifier/keypoint_classifier.hdf5\n",
      "31/31 [==============================] - 0s 2ms/step - loss: 0.6945 - accuracy: 0.7455 - val_loss: 0.3162 - val_accuracy: 0.9392\n",
      "Epoch 73/1000\n",
      " 1/31 [..............................] - ETA: 0s - loss: 0.7579 - accuracy: 0.7578\n",
      "Epoch 73: saving model to model/keypoint_classifier/keypoint_classifier.hdf5\n",
      "31/31 [==============================] - 0s 2ms/step - loss: 0.6937 - accuracy: 0.7429 - val_loss: 0.3263 - val_accuracy: 0.9385\n",
      "Epoch 74/1000\n",
      " 1/31 [..............................] - ETA: 0s - loss: 0.6662 - accuracy: 0.7578\n",
      "Epoch 74: saving model to model/keypoint_classifier/keypoint_classifier.hdf5\n",
      "31/31 [==============================] - 0s 2ms/step - loss: 0.6866 - accuracy: 0.7555 - val_loss: 0.3170 - val_accuracy: 0.9377\n",
      "Epoch 75/1000\n",
      " 1/31 [..............................] - ETA: 0s - loss: 0.6801 - accuracy: 0.7500\n",
      "Epoch 75: saving model to model/keypoint_classifier/keypoint_classifier.hdf5\n",
      "31/31 [==============================] - 0s 2ms/step - loss: 0.6708 - accuracy: 0.7506 - val_loss: 0.3106 - val_accuracy: 0.9408\n",
      "Epoch 76/1000\n",
      " 1/31 [..............................] - ETA: 0s - loss: 0.6183 - accuracy: 0.7578\n",
      "Epoch 76: saving model to model/keypoint_classifier/keypoint_classifier.hdf5\n",
      "31/31 [==============================] - 0s 2ms/step - loss: 0.6779 - accuracy: 0.7512 - val_loss: 0.3158 - val_accuracy: 0.9369\n",
      "Epoch 77/1000\n",
      " 1/31 [..............................] - ETA: 0s - loss: 0.7540 - accuracy: 0.6953\n",
      "Epoch 77: saving model to model/keypoint_classifier/keypoint_classifier.hdf5\n",
      "31/31 [==============================] - 0s 2ms/step - loss: 0.6737 - accuracy: 0.7532 - val_loss: 0.3175 - val_accuracy: 0.9469\n",
      "Epoch 78/1000\n",
      " 1/31 [..............................] - ETA: 0s - loss: 0.7766 - accuracy: 0.7031\n",
      "Epoch 78: saving model to model/keypoint_classifier/keypoint_classifier.hdf5\n",
      "31/31 [==============================] - 0s 2ms/step - loss: 0.6602 - accuracy: 0.7555 - val_loss: 0.3150 - val_accuracy: 0.9408\n",
      "Epoch 79/1000\n",
      " 1/31 [..............................] - ETA: 0s - loss: 0.7505 - accuracy: 0.7188\n",
      "Epoch 79: saving model to model/keypoint_classifier/keypoint_classifier.hdf5\n",
      "31/31 [==============================] - 0s 2ms/step - loss: 0.6805 - accuracy: 0.7494 - val_loss: 0.3123 - val_accuracy: 0.9423\n",
      "Epoch 80/1000\n",
      " 1/31 [..............................] - ETA: 0s - loss: 0.6924 - accuracy: 0.7422\n",
      "Epoch 80: saving model to model/keypoint_classifier/keypoint_classifier.hdf5\n",
      "31/31 [==============================] - 0s 2ms/step - loss: 0.6718 - accuracy: 0.7455 - val_loss: 0.3037 - val_accuracy: 0.9415\n",
      "Epoch 81/1000\n",
      " 1/31 [..............................] - ETA: 0s - loss: 0.6645 - accuracy: 0.7969\n",
      "Epoch 81: saving model to model/keypoint_classifier/keypoint_classifier.hdf5\n",
      "31/31 [==============================] - 0s 2ms/step - loss: 0.6516 - accuracy: 0.7668 - val_loss: 0.3006 - val_accuracy: 0.9438\n",
      "Epoch 82/1000\n",
      " 1/31 [..............................] - ETA: 0s - loss: 0.6987 - accuracy: 0.7969\n",
      "Epoch 82: saving model to model/keypoint_classifier/keypoint_classifier.hdf5\n",
      "31/31 [==============================] - 0s 2ms/step - loss: 0.6532 - accuracy: 0.7653 - val_loss: 0.3101 - val_accuracy: 0.9415\n",
      "Epoch 83/1000\n",
      " 1/31 [..............................] - ETA: 0s - loss: 0.7297 - accuracy: 0.7188\n",
      "Epoch 83: saving model to model/keypoint_classifier/keypoint_classifier.hdf5\n",
      "31/31 [==============================] - 0s 2ms/step - loss: 0.6588 - accuracy: 0.7601 - val_loss: 0.3012 - val_accuracy: 0.9408\n",
      "Epoch 84/1000\n",
      " 1/31 [..............................] - ETA: 0s - loss: 0.7505 - accuracy: 0.7422\n",
      "Epoch 84: saving model to model/keypoint_classifier/keypoint_classifier.hdf5\n",
      "31/31 [==============================] - 0s 2ms/step - loss: 0.6601 - accuracy: 0.7565 - val_loss: 0.2974 - val_accuracy: 0.9408\n",
      "Epoch 85/1000\n",
      " 1/31 [..............................] - ETA: 0s - loss: 0.7871 - accuracy: 0.7500\n",
      "Epoch 85: saving model to model/keypoint_classifier/keypoint_classifier.hdf5\n",
      "31/31 [==============================] - 0s 2ms/step - loss: 0.6721 - accuracy: 0.7573 - val_loss: 0.2995 - val_accuracy: 0.9446\n",
      "Epoch 86/1000\n",
      " 1/31 [..............................] - ETA: 0s - loss: 0.6288 - accuracy: 0.7500\n",
      "Epoch 86: saving model to model/keypoint_classifier/keypoint_classifier.hdf5\n",
      "31/31 [==============================] - 0s 2ms/step - loss: 0.6472 - accuracy: 0.7578 - val_loss: 0.3001 - val_accuracy: 0.9431\n",
      "Epoch 87/1000\n",
      " 1/31 [..............................] - ETA: 0s - loss: 0.6104 - accuracy: 0.7891\n",
      "Epoch 87: saving model to model/keypoint_classifier/keypoint_classifier.hdf5\n",
      "31/31 [==============================] - 0s 2ms/step - loss: 0.6327 - accuracy: 0.7676 - val_loss: 0.2910 - val_accuracy: 0.9423\n",
      "Epoch 88/1000\n",
      " 1/31 [..............................] - ETA: 0s - loss: 0.6066 - accuracy: 0.7812\n",
      "Epoch 88: saving model to model/keypoint_classifier/keypoint_classifier.hdf5\n",
      "31/31 [==============================] - 0s 2ms/step - loss: 0.6611 - accuracy: 0.7637 - val_loss: 0.2931 - val_accuracy: 0.9446\n",
      "Epoch 89/1000\n",
      " 1/31 [..............................] - ETA: 0s - loss: 0.7293 - accuracy: 0.7578\n",
      "Epoch 89: saving model to model/keypoint_classifier/keypoint_classifier.hdf5\n",
      "31/31 [==============================] - 0s 2ms/step - loss: 0.6565 - accuracy: 0.7545 - val_loss: 0.2936 - val_accuracy: 0.9431\n",
      "Epoch 90/1000\n",
      " 1/31 [..............................] - ETA: 0s - loss: 0.5517 - accuracy: 0.8281\n",
      "Epoch 90: saving model to model/keypoint_classifier/keypoint_classifier.hdf5\n",
      "31/31 [==============================] - 0s 2ms/step - loss: 0.6455 - accuracy: 0.7601 - val_loss: 0.2982 - val_accuracy: 0.9408\n",
      "Epoch 91/1000\n",
      " 1/31 [..............................] - ETA: 0s - loss: 0.6018 - accuracy: 0.7656\n",
      "Epoch 91: saving model to model/keypoint_classifier/keypoint_classifier.hdf5\n",
      "31/31 [==============================] - 0s 2ms/step - loss: 0.6626 - accuracy: 0.7514 - val_loss: 0.3001 - val_accuracy: 0.9423\n",
      "Epoch 92/1000\n",
      " 1/31 [..............................] - ETA: 0s - loss: 0.7274 - accuracy: 0.7109\n",
      "Epoch 92: saving model to model/keypoint_classifier/keypoint_classifier.hdf5\n",
      "31/31 [==============================] - 0s 2ms/step - loss: 0.6524 - accuracy: 0.7609 - val_loss: 0.2915 - val_accuracy: 0.9438\n",
      "Epoch 93/1000\n",
      " 1/31 [..............................] - ETA: 0s - loss: 0.6353 - accuracy: 0.7578\n",
      "Epoch 93: saving model to model/keypoint_classifier/keypoint_classifier.hdf5\n",
      "31/31 [==============================] - 0s 2ms/step - loss: 0.6389 - accuracy: 0.7653 - val_loss: 0.2951 - val_accuracy: 0.9423\n",
      "Epoch 94/1000\n",
      " 1/31 [..............................] - ETA: 0s - loss: 0.5980 - accuracy: 0.7500\n",
      "Epoch 94: saving model to model/keypoint_classifier/keypoint_classifier.hdf5\n",
      "31/31 [==============================] - 0s 2ms/step - loss: 0.6486 - accuracy: 0.7542 - val_loss: 0.2944 - val_accuracy: 0.9454\n",
      "Epoch 95/1000\n",
      " 1/31 [..............................] - ETA: 0s - loss: 0.5524 - accuracy: 0.7969\n",
      "Epoch 95: saving model to model/keypoint_classifier/keypoint_classifier.hdf5\n",
      "31/31 [==============================] - 0s 2ms/step - loss: 0.6357 - accuracy: 0.7642 - val_loss: 0.2896 - val_accuracy: 0.9431\n",
      "Epoch 96/1000\n",
      " 1/31 [..............................] - ETA: 0s - loss: 0.7285 - accuracy: 0.7109\n",
      "Epoch 96: saving model to model/keypoint_classifier/keypoint_classifier.hdf5\n",
      "31/31 [==============================] - 0s 2ms/step - loss: 0.6429 - accuracy: 0.7614 - val_loss: 0.2840 - val_accuracy: 0.9423\n",
      "Epoch 97/1000\n",
      " 1/31 [..............................] - ETA: 0s - loss: 0.7093 - accuracy: 0.7969\n",
      "Epoch 97: saving model to model/keypoint_classifier/keypoint_classifier.hdf5\n",
      "31/31 [==============================] - 0s 2ms/step - loss: 0.6222 - accuracy: 0.7773 - val_loss: 0.2808 - val_accuracy: 0.9477\n",
      "Epoch 98/1000\n",
      " 1/31 [..............................] - ETA: 0s - loss: 0.5965 - accuracy: 0.7812\n",
      "Epoch 98: saving model to model/keypoint_classifier/keypoint_classifier.hdf5\n",
      "31/31 [==============================] - 0s 2ms/step - loss: 0.6391 - accuracy: 0.7724 - val_loss: 0.2838 - val_accuracy: 0.9438\n",
      "Epoch 99/1000\n",
      " 1/31 [..............................] - ETA: 0s - loss: 0.8209 - accuracy: 0.6875\n",
      "Epoch 99: saving model to model/keypoint_classifier/keypoint_classifier.hdf5\n",
      "31/31 [==============================] - 0s 2ms/step - loss: 0.6379 - accuracy: 0.7681 - val_loss: 0.2847 - val_accuracy: 0.9477\n",
      "Epoch 100/1000\n",
      " 1/31 [..............................] - ETA: 0s - loss: 0.6781 - accuracy: 0.7188\n",
      "Epoch 100: saving model to model/keypoint_classifier/keypoint_classifier.hdf5\n",
      "31/31 [==============================] - 0s 2ms/step - loss: 0.6412 - accuracy: 0.7635 - val_loss: 0.2902 - val_accuracy: 0.9423\n",
      "Epoch 101/1000\n",
      " 1/31 [..............................] - ETA: 0s - loss: 0.7306 - accuracy: 0.7500\n",
      "Epoch 101: saving model to model/keypoint_classifier/keypoint_classifier.hdf5\n",
      "31/31 [==============================] - 0s 2ms/step - loss: 0.6491 - accuracy: 0.7642 - val_loss: 0.2836 - val_accuracy: 0.9462\n",
      "Epoch 102/1000\n",
      " 1/31 [..............................] - ETA: 0s - loss: 0.6638 - accuracy: 0.7344\n",
      "Epoch 102: saving model to model/keypoint_classifier/keypoint_classifier.hdf5\n",
      "31/31 [==============================] - 0s 2ms/step - loss: 0.6425 - accuracy: 0.7658 - val_loss: 0.2844 - val_accuracy: 0.9446\n",
      "Epoch 103/1000\n",
      " 1/31 [..............................] - ETA: 0s - loss: 0.4300 - accuracy: 0.8359\n",
      "Epoch 103: saving model to model/keypoint_classifier/keypoint_classifier.hdf5\n",
      "31/31 [==============================] - 0s 2ms/step - loss: 0.6209 - accuracy: 0.7712 - val_loss: 0.2860 - val_accuracy: 0.9415\n",
      "Epoch 104/1000\n",
      " 1/31 [..............................] - ETA: 0s - loss: 0.5992 - accuracy: 0.7656\n",
      "Epoch 104: saving model to model/keypoint_classifier/keypoint_classifier.hdf5\n",
      "31/31 [==============================] - 0s 2ms/step - loss: 0.6201 - accuracy: 0.7730 - val_loss: 0.2873 - val_accuracy: 0.9454\n",
      "Epoch 105/1000\n",
      " 1/31 [..............................] - ETA: 0s - loss: 0.5987 - accuracy: 0.7734\n",
      "Epoch 105: saving model to model/keypoint_classifier/keypoint_classifier.hdf5\n",
      "31/31 [==============================] - 0s 2ms/step - loss: 0.6466 - accuracy: 0.7668 - val_loss: 0.2801 - val_accuracy: 0.9469\n",
      "Epoch 106/1000\n",
      " 1/31 [..............................] - ETA: 0s - loss: 0.6886 - accuracy: 0.8125\n",
      "Epoch 106: saving model to model/keypoint_classifier/keypoint_classifier.hdf5\n",
      "31/31 [==============================] - 0s 2ms/step - loss: 0.6277 - accuracy: 0.7727 - val_loss: 0.2781 - val_accuracy: 0.9438\n",
      "Epoch 107/1000\n",
      " 1/31 [..............................] - ETA: 0s - loss: 0.6226 - accuracy: 0.7422\n",
      "Epoch 107: saving model to model/keypoint_classifier/keypoint_classifier.hdf5\n",
      "31/31 [==============================] - 0s 2ms/step - loss: 0.6244 - accuracy: 0.7724 - val_loss: 0.2802 - val_accuracy: 0.9423\n",
      "Epoch 108/1000\n",
      " 1/31 [..............................] - ETA: 0s - loss: 0.7181 - accuracy: 0.7266\n",
      "Epoch 108: saving model to model/keypoint_classifier/keypoint_classifier.hdf5\n",
      "31/31 [==============================] - 0s 2ms/step - loss: 0.6298 - accuracy: 0.7748 - val_loss: 0.2776 - val_accuracy: 0.9454\n",
      "Epoch 109/1000\n",
      " 1/31 [..............................] - ETA: 0s - loss: 0.6428 - accuracy: 0.7734\n",
      "Epoch 109: saving model to model/keypoint_classifier/keypoint_classifier.hdf5\n",
      "31/31 [==============================] - 0s 2ms/step - loss: 0.6390 - accuracy: 0.7650 - val_loss: 0.2719 - val_accuracy: 0.9431\n",
      "Epoch 110/1000\n",
      " 1/31 [..............................] - ETA: 0s - loss: 0.5751 - accuracy: 0.7891\n",
      "Epoch 110: saving model to model/keypoint_classifier/keypoint_classifier.hdf5\n",
      "31/31 [==============================] - 0s 2ms/step - loss: 0.6163 - accuracy: 0.7704 - val_loss: 0.2751 - val_accuracy: 0.9446\n",
      "Epoch 111/1000\n",
      " 1/31 [..............................] - ETA: 0s - loss: 0.5061 - accuracy: 0.8359\n",
      "Epoch 111: saving model to model/keypoint_classifier/keypoint_classifier.hdf5\n",
      "31/31 [==============================] - 0s 2ms/step - loss: 0.6255 - accuracy: 0.7714 - val_loss: 0.2789 - val_accuracy: 0.9415\n",
      "Epoch 112/1000\n",
      " 1/31 [..............................] - ETA: 0s - loss: 0.6129 - accuracy: 0.7500\n",
      "Epoch 112: saving model to model/keypoint_classifier/keypoint_classifier.hdf5\n",
      "31/31 [==============================] - 0s 2ms/step - loss: 0.6302 - accuracy: 0.7712 - val_loss: 0.2742 - val_accuracy: 0.9431\n",
      "Epoch 113/1000\n",
      " 1/31 [..............................] - ETA: 0s - loss: 0.6755 - accuracy: 0.7734\n",
      "Epoch 113: saving model to model/keypoint_classifier/keypoint_classifier.hdf5\n",
      "31/31 [==============================] - 0s 2ms/step - loss: 0.6172 - accuracy: 0.7768 - val_loss: 0.2708 - val_accuracy: 0.9454\n",
      "Epoch 114/1000\n",
      " 1/31 [..............................] - ETA: 0s - loss: 0.6447 - accuracy: 0.7891\n",
      "Epoch 114: saving model to model/keypoint_classifier/keypoint_classifier.hdf5\n",
      "31/31 [==============================] - 0s 2ms/step - loss: 0.6148 - accuracy: 0.7763 - val_loss: 0.2717 - val_accuracy: 0.9462\n",
      "Epoch 115/1000\n",
      " 1/31 [..............................] - ETA: 0s - loss: 0.7726 - accuracy: 0.7031\n",
      "Epoch 115: saving model to model/keypoint_classifier/keypoint_classifier.hdf5\n",
      "31/31 [==============================] - 0s 2ms/step - loss: 0.6339 - accuracy: 0.7614 - val_loss: 0.2751 - val_accuracy: 0.9446\n",
      "Epoch 116/1000\n",
      " 1/31 [..............................] - ETA: 0s - loss: 0.6919 - accuracy: 0.7344\n",
      "Epoch 116: saving model to model/keypoint_classifier/keypoint_classifier.hdf5\n",
      "31/31 [==============================] - 0s 2ms/step - loss: 0.6339 - accuracy: 0.7704 - val_loss: 0.2738 - val_accuracy: 0.9446\n",
      "Epoch 117/1000\n",
      " 1/31 [..............................] - ETA: 0s - loss: 0.6031 - accuracy: 0.7656\n",
      "Epoch 117: saving model to model/keypoint_classifier/keypoint_classifier.hdf5\n",
      "31/31 [==============================] - 0s 2ms/step - loss: 0.6088 - accuracy: 0.7676 - val_loss: 0.2719 - val_accuracy: 0.9431\n",
      "Epoch 118/1000\n",
      " 1/31 [..............................] - ETA: 0s - loss: 0.6006 - accuracy: 0.7734\n",
      "Epoch 118: saving model to model/keypoint_classifier/keypoint_classifier.hdf5\n",
      "31/31 [==============================] - 0s 2ms/step - loss: 0.6296 - accuracy: 0.7653 - val_loss: 0.2662 - val_accuracy: 0.9477\n",
      "Epoch 119/1000\n",
      " 1/31 [..............................] - ETA: 0s - loss: 0.7869 - accuracy: 0.7109\n",
      "Epoch 119: saving model to model/keypoint_classifier/keypoint_classifier.hdf5\n",
      "31/31 [==============================] - 0s 2ms/step - loss: 0.6114 - accuracy: 0.7801 - val_loss: 0.2762 - val_accuracy: 0.9446\n",
      "Epoch 120/1000\n",
      " 1/31 [..............................] - ETA: 0s - loss: 0.7014 - accuracy: 0.7656\n",
      "Epoch 120: saving model to model/keypoint_classifier/keypoint_classifier.hdf5\n",
      "31/31 [==============================] - 0s 2ms/step - loss: 0.6073 - accuracy: 0.7794 - val_loss: 0.2736 - val_accuracy: 0.9423\n",
      "Epoch 121/1000\n",
      " 1/31 [..............................] - ETA: 0s - loss: 0.6365 - accuracy: 0.7891\n",
      "Epoch 121: saving model to model/keypoint_classifier/keypoint_classifier.hdf5\n",
      "31/31 [==============================] - 0s 2ms/step - loss: 0.6119 - accuracy: 0.7781 - val_loss: 0.2698 - val_accuracy: 0.9446\n",
      "Epoch 122/1000\n",
      " 1/31 [..............................] - ETA: 0s - loss: 0.7020 - accuracy: 0.7656\n",
      "Epoch 122: saving model to model/keypoint_classifier/keypoint_classifier.hdf5\n",
      "31/31 [==============================] - 0s 2ms/step - loss: 0.6046 - accuracy: 0.7773 - val_loss: 0.2712 - val_accuracy: 0.9446\n",
      "Epoch 123/1000\n",
      " 1/31 [..............................] - ETA: 0s - loss: 0.7095 - accuracy: 0.7266\n",
      "Epoch 123: saving model to model/keypoint_classifier/keypoint_classifier.hdf5\n",
      "31/31 [==============================] - 0s 2ms/step - loss: 0.6117 - accuracy: 0.7825 - val_loss: 0.2735 - val_accuracy: 0.9423\n",
      "Epoch 124/1000\n",
      " 1/31 [..............................] - ETA: 0s - loss: 0.7271 - accuracy: 0.7266\n",
      "Epoch 124: saving model to model/keypoint_classifier/keypoint_classifier.hdf5\n",
      "31/31 [==============================] - 0s 2ms/step - loss: 0.6366 - accuracy: 0.7683 - val_loss: 0.2676 - val_accuracy: 0.9462\n",
      "Epoch 125/1000\n",
      " 1/31 [..............................] - ETA: 0s - loss: 0.5825 - accuracy: 0.8125\n",
      "Epoch 125: saving model to model/keypoint_classifier/keypoint_classifier.hdf5\n",
      "31/31 [==============================] - 0s 2ms/step - loss: 0.6255 - accuracy: 0.7737 - val_loss: 0.2786 - val_accuracy: 0.9431\n",
      "Epoch 126/1000\n",
      " 1/31 [..............................] - ETA: 0s - loss: 0.6294 - accuracy: 0.7266\n",
      "Epoch 126: saving model to model/keypoint_classifier/keypoint_classifier.hdf5\n",
      "31/31 [==============================] - 0s 2ms/step - loss: 0.6386 - accuracy: 0.7630 - val_loss: 0.2765 - val_accuracy: 0.9446\n",
      "Epoch 127/1000\n",
      " 1/31 [..............................] - ETA: 0s - loss: 0.6752 - accuracy: 0.7500\n",
      "Epoch 127: saving model to model/keypoint_classifier/keypoint_classifier.hdf5\n",
      "31/31 [==============================] - 0s 2ms/step - loss: 0.6104 - accuracy: 0.7753 - val_loss: 0.2745 - val_accuracy: 0.9408\n",
      "Epoch 128/1000\n",
      " 1/31 [..............................] - ETA: 0s - loss: 0.6778 - accuracy: 0.8203\n",
      "Epoch 128: saving model to model/keypoint_classifier/keypoint_classifier.hdf5\n",
      "31/31 [==============================] - 0s 2ms/step - loss: 0.6354 - accuracy: 0.7694 - val_loss: 0.2758 - val_accuracy: 0.9438\n",
      "Epoch 129/1000\n",
      " 1/31 [..............................] - ETA: 0s - loss: 0.5559 - accuracy: 0.7734\n",
      "Epoch 129: saving model to model/keypoint_classifier/keypoint_classifier.hdf5\n",
      "31/31 [==============================] - 0s 2ms/step - loss: 0.6026 - accuracy: 0.7850 - val_loss: 0.2632 - val_accuracy: 0.9454\n",
      "Epoch 130/1000\n",
      " 1/31 [..............................] - ETA: 0s - loss: 0.4543 - accuracy: 0.8594\n",
      "Epoch 130: saving model to model/keypoint_classifier/keypoint_classifier.hdf5\n",
      "31/31 [==============================] - 0s 2ms/step - loss: 0.6186 - accuracy: 0.7799 - val_loss: 0.2721 - val_accuracy: 0.9400\n",
      "Epoch 131/1000\n",
      " 1/31 [..............................] - ETA: 0s - loss: 0.7649 - accuracy: 0.7578\n",
      "Epoch 131: saving model to model/keypoint_classifier/keypoint_classifier.hdf5\n",
      "31/31 [==============================] - 0s 2ms/step - loss: 0.6009 - accuracy: 0.7783 - val_loss: 0.2671 - val_accuracy: 0.9469\n",
      "Epoch 132/1000\n",
      " 1/31 [..............................] - ETA: 0s - loss: 0.6071 - accuracy: 0.7656\n",
      "Epoch 132: saving model to model/keypoint_classifier/keypoint_classifier.hdf5\n",
      "31/31 [==============================] - 0s 2ms/step - loss: 0.5962 - accuracy: 0.7842 - val_loss: 0.2657 - val_accuracy: 0.9438\n",
      "Epoch 133/1000\n",
      " 1/31 [..............................] - ETA: 0s - loss: 0.6924 - accuracy: 0.7656\n",
      "Epoch 133: saving model to model/keypoint_classifier/keypoint_classifier.hdf5\n",
      "31/31 [==============================] - 0s 2ms/step - loss: 0.6030 - accuracy: 0.7796 - val_loss: 0.2691 - val_accuracy: 0.9423\n",
      "Epoch 134/1000\n",
      " 1/31 [..............................] - ETA: 0s - loss: 0.5712 - accuracy: 0.7734\n",
      "Epoch 134: saving model to model/keypoint_classifier/keypoint_classifier.hdf5\n",
      "31/31 [==============================] - 0s 2ms/step - loss: 0.5964 - accuracy: 0.7848 - val_loss: 0.2766 - val_accuracy: 0.9423\n",
      "Epoch 135/1000\n",
      " 1/31 [..............................] - ETA: 0s - loss: 0.6666 - accuracy: 0.7578\n",
      "Epoch 135: saving model to model/keypoint_classifier/keypoint_classifier.hdf5\n",
      "31/31 [==============================] - 0s 2ms/step - loss: 0.6048 - accuracy: 0.7858 - val_loss: 0.2647 - val_accuracy: 0.9415\n",
      "Epoch 136/1000\n",
      " 1/31 [..............................] - ETA: 0s - loss: 0.6904 - accuracy: 0.7500\n",
      "Epoch 136: saving model to model/keypoint_classifier/keypoint_classifier.hdf5\n",
      "31/31 [==============================] - 0s 2ms/step - loss: 0.5883 - accuracy: 0.7858 - val_loss: 0.2543 - val_accuracy: 0.9446\n",
      "Epoch 137/1000\n",
      " 1/31 [..............................] - ETA: 0s - loss: 0.6403 - accuracy: 0.7500\n",
      "Epoch 137: saving model to model/keypoint_classifier/keypoint_classifier.hdf5\n",
      "31/31 [==============================] - 0s 2ms/step - loss: 0.6120 - accuracy: 0.7763 - val_loss: 0.2618 - val_accuracy: 0.9438\n",
      "Epoch 138/1000\n",
      " 1/31 [..............................] - ETA: 0s - loss: 0.5543 - accuracy: 0.7734\n",
      "Epoch 138: saving model to model/keypoint_classifier/keypoint_classifier.hdf5\n",
      "31/31 [==============================] - 0s 2ms/step - loss: 0.6154 - accuracy: 0.7750 - val_loss: 0.2690 - val_accuracy: 0.9408\n",
      "Epoch 139/1000\n",
      " 1/31 [..............................] - ETA: 0s - loss: 0.6696 - accuracy: 0.7344\n",
      "Epoch 139: saving model to model/keypoint_classifier/keypoint_classifier.hdf5\n",
      "31/31 [==============================] - 0s 2ms/step - loss: 0.6224 - accuracy: 0.7750 - val_loss: 0.2712 - val_accuracy: 0.9415\n",
      "Epoch 140/1000\n",
      " 1/31 [..............................] - ETA: 0s - loss: 0.7126 - accuracy: 0.7500\n",
      "Epoch 140: saving model to model/keypoint_classifier/keypoint_classifier.hdf5\n",
      "31/31 [==============================] - 0s 2ms/step - loss: 0.6048 - accuracy: 0.7799 - val_loss: 0.2645 - val_accuracy: 0.9454\n",
      "Epoch 141/1000\n",
      " 1/31 [..............................] - ETA: 0s - loss: 0.6144 - accuracy: 0.7656\n",
      "Epoch 141: saving model to model/keypoint_classifier/keypoint_classifier.hdf5\n",
      "31/31 [==============================] - 0s 2ms/step - loss: 0.6027 - accuracy: 0.7822 - val_loss: 0.2529 - val_accuracy: 0.9462\n",
      "Epoch 142/1000\n",
      " 1/31 [..............................] - ETA: 0s - loss: 0.6834 - accuracy: 0.7500\n",
      "Epoch 142: saving model to model/keypoint_classifier/keypoint_classifier.hdf5\n",
      "31/31 [==============================] - 0s 2ms/step - loss: 0.6120 - accuracy: 0.7807 - val_loss: 0.2571 - val_accuracy: 0.9485\n",
      "Epoch 143/1000\n",
      " 1/31 [..............................] - ETA: 0s - loss: 0.6515 - accuracy: 0.7812\n",
      "Epoch 143: saving model to model/keypoint_classifier/keypoint_classifier.hdf5\n",
      "31/31 [==============================] - 0s 2ms/step - loss: 0.5921 - accuracy: 0.7871 - val_loss: 0.2578 - val_accuracy: 0.9462\n",
      "Epoch 144/1000\n",
      " 1/31 [..............................] - ETA: 0s - loss: 0.6626 - accuracy: 0.7344\n",
      "Epoch 144: saving model to model/keypoint_classifier/keypoint_classifier.hdf5\n",
      "31/31 [==============================] - 0s 2ms/step - loss: 0.6192 - accuracy: 0.7714 - val_loss: 0.2633 - val_accuracy: 0.9423\n",
      "Epoch 145/1000\n",
      " 1/31 [..............................] - ETA: 0s - loss: 0.5988 - accuracy: 0.7734\n",
      "Epoch 145: saving model to model/keypoint_classifier/keypoint_classifier.hdf5\n",
      "31/31 [==============================] - 0s 2ms/step - loss: 0.5921 - accuracy: 0.7807 - val_loss: 0.2687 - val_accuracy: 0.9423\n",
      "Epoch 146/1000\n",
      " 1/31 [..............................] - ETA: 0s - loss: 0.7229 - accuracy: 0.7734\n",
      "Epoch 146: saving model to model/keypoint_classifier/keypoint_classifier.hdf5\n",
      "31/31 [==============================] - 0s 2ms/step - loss: 0.6062 - accuracy: 0.7771 - val_loss: 0.2660 - val_accuracy: 0.9477\n",
      "Epoch 147/1000\n",
      " 1/31 [..............................] - ETA: 0s - loss: 0.5822 - accuracy: 0.7500\n",
      "Epoch 147: saving model to model/keypoint_classifier/keypoint_classifier.hdf5\n",
      "31/31 [==============================] - 0s 2ms/step - loss: 0.6178 - accuracy: 0.7727 - val_loss: 0.2700 - val_accuracy: 0.9462\n",
      "Epoch 148/1000\n",
      " 1/31 [..............................] - ETA: 0s - loss: 0.5087 - accuracy: 0.7734\n",
      "Epoch 148: saving model to model/keypoint_classifier/keypoint_classifier.hdf5\n",
      "31/31 [==============================] - 0s 2ms/step - loss: 0.5878 - accuracy: 0.7881 - val_loss: 0.2550 - val_accuracy: 0.9438\n",
      "Epoch 149/1000\n",
      " 1/31 [..............................] - ETA: 0s - loss: 0.6550 - accuracy: 0.7969\n",
      "Epoch 149: saving model to model/keypoint_classifier/keypoint_classifier.hdf5\n",
      "31/31 [==============================] - 0s 2ms/step - loss: 0.6213 - accuracy: 0.7737 - val_loss: 0.2628 - val_accuracy: 0.9392\n",
      "Epoch 150/1000\n",
      " 1/31 [..............................] - ETA: 0s - loss: 0.5995 - accuracy: 0.7578\n",
      "Epoch 150: saving model to model/keypoint_classifier/keypoint_classifier.hdf5\n",
      "31/31 [==============================] - 0s 2ms/step - loss: 0.5947 - accuracy: 0.7799 - val_loss: 0.2601 - val_accuracy: 0.9400\n",
      "Epoch 151/1000\n",
      " 1/31 [..............................] - ETA: 0s - loss: 0.5512 - accuracy: 0.8281\n",
      "Epoch 151: saving model to model/keypoint_classifier/keypoint_classifier.hdf5\n",
      "31/31 [==============================] - 0s 2ms/step - loss: 0.5991 - accuracy: 0.7842 - val_loss: 0.2573 - val_accuracy: 0.9485\n",
      "Epoch 152/1000\n",
      " 1/31 [..............................] - ETA: 0s - loss: 0.6779 - accuracy: 0.7500\n",
      "Epoch 152: saving model to model/keypoint_classifier/keypoint_classifier.hdf5\n",
      "31/31 [==============================] - 0s 2ms/step - loss: 0.5987 - accuracy: 0.7848 - val_loss: 0.2655 - val_accuracy: 0.9431\n",
      "Epoch 153/1000\n",
      " 1/31 [..............................] - ETA: 0s - loss: 0.6190 - accuracy: 0.8047\n",
      "Epoch 153: saving model to model/keypoint_classifier/keypoint_classifier.hdf5\n",
      "31/31 [==============================] - 0s 2ms/step - loss: 0.6023 - accuracy: 0.7848 - val_loss: 0.2594 - val_accuracy: 0.9454\n",
      "Epoch 154/1000\n",
      " 1/31 [..............................] - ETA: 0s - loss: 0.4789 - accuracy: 0.8516\n",
      "Epoch 154: saving model to model/keypoint_classifier/keypoint_classifier.hdf5\n",
      "31/31 [==============================] - 0s 2ms/step - loss: 0.6063 - accuracy: 0.7791 - val_loss: 0.2613 - val_accuracy: 0.9454\n",
      "Epoch 155/1000\n",
      " 1/31 [..............................] - ETA: 0s - loss: 0.4868 - accuracy: 0.8281\n",
      "Epoch 155: saving model to model/keypoint_classifier/keypoint_classifier.hdf5\n",
      "31/31 [==============================] - 0s 3ms/step - loss: 0.5938 - accuracy: 0.7848 - val_loss: 0.2607 - val_accuracy: 0.9423\n",
      "Epoch 156/1000\n",
      " 1/31 [..............................] - ETA: 0s - loss: 0.5036 - accuracy: 0.8203\n",
      "Epoch 156: saving model to model/keypoint_classifier/keypoint_classifier.hdf5\n",
      "31/31 [==============================] - 0s 2ms/step - loss: 0.5886 - accuracy: 0.7825 - val_loss: 0.2675 - val_accuracy: 0.9446\n",
      "Epoch 157/1000\n",
      " 1/31 [..............................] - ETA: 0s - loss: 0.6078 - accuracy: 0.7422\n",
      "Epoch 157: saving model to model/keypoint_classifier/keypoint_classifier.hdf5\n",
      "31/31 [==============================] - 0s 2ms/step - loss: 0.6067 - accuracy: 0.7804 - val_loss: 0.2550 - val_accuracy: 0.9462\n",
      "Epoch 158/1000\n",
      " 1/31 [..............................] - ETA: 0s - loss: 0.5172 - accuracy: 0.8359\n",
      "Epoch 158: saving model to model/keypoint_classifier/keypoint_classifier.hdf5\n",
      "31/31 [==============================] - 0s 2ms/step - loss: 0.5888 - accuracy: 0.7907 - val_loss: 0.2615 - val_accuracy: 0.9469\n",
      "Epoch 159/1000\n",
      " 1/31 [..............................] - ETA: 0s - loss: 0.6615 - accuracy: 0.7344\n",
      "Epoch 159: saving model to model/keypoint_classifier/keypoint_classifier.hdf5\n",
      "31/31 [==============================] - 0s 2ms/step - loss: 0.5762 - accuracy: 0.7945 - val_loss: 0.2580 - val_accuracy: 0.9477\n",
      "Epoch 160/1000\n",
      " 1/31 [..............................] - ETA: 0s - loss: 0.6736 - accuracy: 0.7344\n",
      "Epoch 160: saving model to model/keypoint_classifier/keypoint_classifier.hdf5\n",
      "31/31 [==============================] - 0s 2ms/step - loss: 0.5877 - accuracy: 0.7881 - val_loss: 0.2533 - val_accuracy: 0.9431\n",
      "Epoch 161/1000\n",
      " 1/31 [..............................] - ETA: 0s - loss: 0.6283 - accuracy: 0.7891\n",
      "Epoch 161: saving model to model/keypoint_classifier/keypoint_classifier.hdf5\n",
      "31/31 [==============================] - 0s 2ms/step - loss: 0.6031 - accuracy: 0.7799 - val_loss: 0.2465 - val_accuracy: 0.9454\n",
      "Epoch 162/1000\n",
      " 1/31 [..............................] - ETA: 0s - loss: 0.5579 - accuracy: 0.7656\n",
      "Epoch 162: saving model to model/keypoint_classifier/keypoint_classifier.hdf5\n",
      "31/31 [==============================] - 0s 2ms/step - loss: 0.5804 - accuracy: 0.7914 - val_loss: 0.2463 - val_accuracy: 0.9492\n",
      "Epoch 163/1000\n",
      " 1/31 [..............................] - ETA: 0s - loss: 0.6497 - accuracy: 0.7891\n",
      "Epoch 163: saving model to model/keypoint_classifier/keypoint_classifier.hdf5\n",
      "31/31 [==============================] - 0s 2ms/step - loss: 0.5888 - accuracy: 0.7848 - val_loss: 0.2566 - val_accuracy: 0.9438\n",
      "Epoch 164/1000\n",
      " 1/31 [..............................] - ETA: 0s - loss: 0.4920 - accuracy: 0.8047\n",
      "Epoch 164: saving model to model/keypoint_classifier/keypoint_classifier.hdf5\n",
      "31/31 [==============================] - 0s 2ms/step - loss: 0.5913 - accuracy: 0.7819 - val_loss: 0.2605 - val_accuracy: 0.9462\n",
      "Epoch 165/1000\n",
      " 1/31 [..............................] - ETA: 0s - loss: 0.6709 - accuracy: 0.7578\n",
      "Epoch 165: saving model to model/keypoint_classifier/keypoint_classifier.hdf5\n",
      "31/31 [==============================] - 0s 2ms/step - loss: 0.6126 - accuracy: 0.7814 - val_loss: 0.2561 - val_accuracy: 0.9477\n",
      "Epoch 166/1000\n",
      " 1/31 [..............................] - ETA: 0s - loss: 0.5007 - accuracy: 0.8047\n",
      "Epoch 166: saving model to model/keypoint_classifier/keypoint_classifier.hdf5\n",
      "31/31 [==============================] - 0s 2ms/step - loss: 0.5846 - accuracy: 0.7827 - val_loss: 0.2527 - val_accuracy: 0.9415\n",
      "Epoch 167/1000\n",
      " 1/31 [..............................] - ETA: 0s - loss: 0.5832 - accuracy: 0.7891\n",
      "Epoch 167: saving model to model/keypoint_classifier/keypoint_classifier.hdf5\n",
      "31/31 [==============================] - 0s 2ms/step - loss: 0.5917 - accuracy: 0.7825 - val_loss: 0.2588 - val_accuracy: 0.9469\n",
      "Epoch 168/1000\n",
      " 1/31 [..............................] - ETA: 0s - loss: 0.7206 - accuracy: 0.7500\n",
      "Epoch 168: saving model to model/keypoint_classifier/keypoint_classifier.hdf5\n",
      "31/31 [==============================] - 0s 2ms/step - loss: 0.6061 - accuracy: 0.7814 - val_loss: 0.2637 - val_accuracy: 0.9438\n",
      "Epoch 169/1000\n",
      " 1/31 [..............................] - ETA: 0s - loss: 0.6061 - accuracy: 0.7969\n",
      "Epoch 169: saving model to model/keypoint_classifier/keypoint_classifier.hdf5\n",
      "31/31 [==============================] - 0s 2ms/step - loss: 0.5953 - accuracy: 0.7837 - val_loss: 0.2629 - val_accuracy: 0.9462\n",
      "Epoch 170/1000\n",
      " 1/31 [..............................] - ETA: 0s - loss: 0.7582 - accuracy: 0.6875\n",
      "Epoch 170: saving model to model/keypoint_classifier/keypoint_classifier.hdf5\n",
      "31/31 [==============================] - 0s 2ms/step - loss: 0.5880 - accuracy: 0.7866 - val_loss: 0.2537 - val_accuracy: 0.9415\n",
      "Epoch 171/1000\n",
      " 1/31 [..............................] - ETA: 0s - loss: 0.6256 - accuracy: 0.7500\n",
      "Epoch 171: saving model to model/keypoint_classifier/keypoint_classifier.hdf5\n",
      "31/31 [==============================] - 0s 2ms/step - loss: 0.5743 - accuracy: 0.7950 - val_loss: 0.2611 - val_accuracy: 0.9415\n",
      "Epoch 172/1000\n",
      " 1/31 [..............................] - ETA: 0s - loss: 0.5714 - accuracy: 0.7734\n",
      "Epoch 172: saving model to model/keypoint_classifier/keypoint_classifier.hdf5\n",
      "31/31 [==============================] - 0s 2ms/step - loss: 0.5729 - accuracy: 0.7907 - val_loss: 0.2491 - val_accuracy: 0.9477\n",
      "Epoch 173/1000\n",
      " 1/31 [..............................] - ETA: 0s - loss: 0.5886 - accuracy: 0.8047\n",
      "Epoch 173: saving model to model/keypoint_classifier/keypoint_classifier.hdf5\n",
      "31/31 [==============================] - 0s 2ms/step - loss: 0.5968 - accuracy: 0.7835 - val_loss: 0.2525 - val_accuracy: 0.9462\n",
      "Epoch 174/1000\n",
      " 1/31 [..............................] - ETA: 0s - loss: 0.7020 - accuracy: 0.7422\n",
      "Epoch 174: saving model to model/keypoint_classifier/keypoint_classifier.hdf5\n",
      "31/31 [==============================] - 0s 2ms/step - loss: 0.5943 - accuracy: 0.7799 - val_loss: 0.2515 - val_accuracy: 0.9462\n",
      "Epoch 175/1000\n",
      " 1/31 [..............................] - ETA: 0s - loss: 0.5353 - accuracy: 0.8125\n",
      "Epoch 175: saving model to model/keypoint_classifier/keypoint_classifier.hdf5\n",
      "31/31 [==============================] - 0s 2ms/step - loss: 0.5933 - accuracy: 0.7863 - val_loss: 0.2651 - val_accuracy: 0.9408\n",
      "Epoch 176/1000\n",
      " 1/31 [..............................] - ETA: 0s - loss: 0.5118 - accuracy: 0.7656\n",
      "Epoch 176: saving model to model/keypoint_classifier/keypoint_classifier.hdf5\n",
      "31/31 [==============================] - 0s 2ms/step - loss: 0.5755 - accuracy: 0.7960 - val_loss: 0.2459 - val_accuracy: 0.9446\n",
      "Epoch 177/1000\n",
      " 1/31 [..............................] - ETA: 0s - loss: 0.6619 - accuracy: 0.7656\n",
      "Epoch 177: saving model to model/keypoint_classifier/keypoint_classifier.hdf5\n",
      "31/31 [==============================] - 0s 2ms/step - loss: 0.5765 - accuracy: 0.7925 - val_loss: 0.2561 - val_accuracy: 0.9408\n",
      "Epoch 178/1000\n",
      " 1/31 [..............................] - ETA: 0s - loss: 0.5444 - accuracy: 0.8438\n",
      "Epoch 178: saving model to model/keypoint_classifier/keypoint_classifier.hdf5\n",
      "31/31 [==============================] - 0s 2ms/step - loss: 0.5958 - accuracy: 0.7840 - val_loss: 0.2509 - val_accuracy: 0.9469\n",
      "Epoch 179/1000\n",
      " 1/31 [..............................] - ETA: 0s - loss: 0.5680 - accuracy: 0.8047\n",
      "Epoch 179: saving model to model/keypoint_classifier/keypoint_classifier.hdf5\n",
      "31/31 [==============================] - 0s 2ms/step - loss: 0.5585 - accuracy: 0.8002 - val_loss: 0.2562 - val_accuracy: 0.9431\n",
      "Epoch 180/1000\n",
      " 1/31 [..............................] - ETA: 0s - loss: 0.4553 - accuracy: 0.7891\n",
      "Epoch 180: saving model to model/keypoint_classifier/keypoint_classifier.hdf5\n",
      "31/31 [==============================] - 0s 2ms/step - loss: 0.5650 - accuracy: 0.7955 - val_loss: 0.2437 - val_accuracy: 0.9431\n",
      "Epoch 181/1000\n",
      " 1/31 [..............................] - ETA: 0s - loss: 0.5346 - accuracy: 0.8203\n",
      "Epoch 181: saving model to model/keypoint_classifier/keypoint_classifier.hdf5\n",
      "31/31 [==============================] - 0s 2ms/step - loss: 0.5886 - accuracy: 0.7853 - val_loss: 0.2451 - val_accuracy: 0.9492\n",
      "Epoch 182/1000\n",
      " 1/31 [..............................] - ETA: 0s - loss: 0.8655 - accuracy: 0.7422\n",
      "Epoch 182: saving model to model/keypoint_classifier/keypoint_classifier.hdf5\n",
      "31/31 [==============================] - 0s 2ms/step - loss: 0.5891 - accuracy: 0.7886 - val_loss: 0.2533 - val_accuracy: 0.9469\n",
      "Epoch 183/1000\n",
      " 1/31 [..............................] - ETA: 0s - loss: 0.5046 - accuracy: 0.7969\n",
      "Epoch 183: saving model to model/keypoint_classifier/keypoint_classifier.hdf5\n",
      "31/31 [==============================] - 0s 2ms/step - loss: 0.5660 - accuracy: 0.7948 - val_loss: 0.2392 - val_accuracy: 0.9492\n",
      "Epoch 184/1000\n",
      " 1/31 [..............................] - ETA: 0s - loss: 0.4556 - accuracy: 0.8516\n",
      "Epoch 184: saving model to model/keypoint_classifier/keypoint_classifier.hdf5\n",
      "31/31 [==============================] - 0s 2ms/step - loss: 0.5623 - accuracy: 0.7984 - val_loss: 0.2555 - val_accuracy: 0.9446\n",
      "Epoch 185/1000\n",
      " 1/31 [..............................] - ETA: 0s - loss: 0.4798 - accuracy: 0.8203\n",
      "Epoch 185: saving model to model/keypoint_classifier/keypoint_classifier.hdf5\n",
      "31/31 [==============================] - 0s 2ms/step - loss: 0.5608 - accuracy: 0.7955 - val_loss: 0.2389 - val_accuracy: 0.9485\n",
      "Epoch 186/1000\n",
      " 1/31 [..............................] - ETA: 0s - loss: 0.6062 - accuracy: 0.8047\n",
      "Epoch 186: saving model to model/keypoint_classifier/keypoint_classifier.hdf5\n",
      "31/31 [==============================] - 0s 2ms/step - loss: 0.5913 - accuracy: 0.7866 - val_loss: 0.2551 - val_accuracy: 0.9415\n",
      "Epoch 187/1000\n",
      " 1/31 [..............................] - ETA: 0s - loss: 0.6307 - accuracy: 0.7656\n",
      "Epoch 187: saving model to model/keypoint_classifier/keypoint_classifier.hdf5\n",
      "31/31 [==============================] - 0s 2ms/step - loss: 0.5682 - accuracy: 0.7932 - val_loss: 0.2698 - val_accuracy: 0.9369\n",
      "Epoch 188/1000\n",
      " 1/31 [..............................] - ETA: 0s - loss: 0.5173 - accuracy: 0.8203\n",
      "Epoch 188: saving model to model/keypoint_classifier/keypoint_classifier.hdf5\n",
      "31/31 [==============================] - 0s 2ms/step - loss: 0.5842 - accuracy: 0.7881 - val_loss: 0.2679 - val_accuracy: 0.9423\n",
      "Epoch 189/1000\n",
      " 1/31 [..............................] - ETA: 0s - loss: 0.6450 - accuracy: 0.7656\n",
      "Epoch 189: saving model to model/keypoint_classifier/keypoint_classifier.hdf5\n",
      "31/31 [==============================] - 0s 2ms/step - loss: 0.6028 - accuracy: 0.7755 - val_loss: 0.2634 - val_accuracy: 0.9454\n",
      "Epoch 190/1000\n",
      " 1/31 [..............................] - ETA: 0s - loss: 0.5096 - accuracy: 0.8438\n",
      "Epoch 190: saving model to model/keypoint_classifier/keypoint_classifier.hdf5\n",
      "31/31 [==============================] - 0s 2ms/step - loss: 0.5717 - accuracy: 0.7925 - val_loss: 0.2561 - val_accuracy: 0.9408\n",
      "Epoch 191/1000\n",
      " 1/31 [..............................] - ETA: 0s - loss: 0.4806 - accuracy: 0.8281\n",
      "Epoch 191: saving model to model/keypoint_classifier/keypoint_classifier.hdf5\n",
      "31/31 [==============================] - 0s 2ms/step - loss: 0.5895 - accuracy: 0.7853 - val_loss: 0.2536 - val_accuracy: 0.9454\n",
      "Epoch 192/1000\n",
      " 1/31 [..............................] - ETA: 0s - loss: 0.5734 - accuracy: 0.7500\n",
      "Epoch 192: saving model to model/keypoint_classifier/keypoint_classifier.hdf5\n",
      "31/31 [==============================] - 0s 2ms/step - loss: 0.5745 - accuracy: 0.7904 - val_loss: 0.2518 - val_accuracy: 0.9431\n",
      "Epoch 193/1000\n",
      " 1/31 [..............................] - ETA: 0s - loss: 0.4971 - accuracy: 0.8125\n",
      "Epoch 193: saving model to model/keypoint_classifier/keypoint_classifier.hdf5\n",
      "31/31 [==============================] - 0s 2ms/step - loss: 0.5672 - accuracy: 0.7971 - val_loss: 0.2501 - val_accuracy: 0.9477\n",
      "Epoch 194/1000\n",
      " 1/31 [..............................] - ETA: 0s - loss: 0.5922 - accuracy: 0.8281\n",
      "Epoch 194: saving model to model/keypoint_classifier/keypoint_classifier.hdf5\n",
      "31/31 [==============================] - 0s 2ms/step - loss: 0.5720 - accuracy: 0.7917 - val_loss: 0.2406 - val_accuracy: 0.9462\n",
      "Epoch 195/1000\n",
      " 1/31 [..............................] - ETA: 0s - loss: 0.5782 - accuracy: 0.7969\n",
      "Epoch 195: saving model to model/keypoint_classifier/keypoint_classifier.hdf5\n",
      "31/31 [==============================] - 0s 2ms/step - loss: 0.5756 - accuracy: 0.8004 - val_loss: 0.2474 - val_accuracy: 0.9438\n",
      "Epoch 196/1000\n",
      " 1/31 [..............................] - ETA: 0s - loss: 0.5783 - accuracy: 0.8047\n",
      "Epoch 196: saving model to model/keypoint_classifier/keypoint_classifier.hdf5\n",
      "31/31 [==============================] - 0s 2ms/step - loss: 0.5732 - accuracy: 0.7948 - val_loss: 0.2378 - val_accuracy: 0.9462\n",
      "Epoch 197/1000\n",
      " 1/31 [..............................] - ETA: 0s - loss: 0.5357 - accuracy: 0.8047\n",
      "Epoch 197: saving model to model/keypoint_classifier/keypoint_classifier.hdf5\n",
      "31/31 [==============================] - 0s 2ms/step - loss: 0.5848 - accuracy: 0.7932 - val_loss: 0.2483 - val_accuracy: 0.9469\n",
      "Epoch 198/1000\n",
      " 1/31 [..............................] - ETA: 0s - loss: 0.5064 - accuracy: 0.8359\n",
      "Epoch 198: saving model to model/keypoint_classifier/keypoint_classifier.hdf5\n",
      "31/31 [==============================] - 0s 2ms/step - loss: 0.6069 - accuracy: 0.7768 - val_loss: 0.2595 - val_accuracy: 0.9423\n",
      "Epoch 199/1000\n",
      " 1/31 [..............................] - ETA: 0s - loss: 0.6382 - accuracy: 0.7969\n",
      "Epoch 199: saving model to model/keypoint_classifier/keypoint_classifier.hdf5\n",
      "31/31 [==============================] - 0s 2ms/step - loss: 0.5740 - accuracy: 0.7881 - val_loss: 0.2470 - val_accuracy: 0.9446\n",
      "Epoch 200/1000\n",
      " 1/31 [..............................] - ETA: 0s - loss: 0.5977 - accuracy: 0.7812\n",
      "Epoch 200: saving model to model/keypoint_classifier/keypoint_classifier.hdf5\n",
      "31/31 [==============================] - 0s 2ms/step - loss: 0.5615 - accuracy: 0.7973 - val_loss: 0.2482 - val_accuracy: 0.9462\n",
      "Epoch 201/1000\n",
      " 1/31 [..............................] - ETA: 0s - loss: 0.3953 - accuracy: 0.8672\n",
      "Epoch 201: saving model to model/keypoint_classifier/keypoint_classifier.hdf5\n",
      "31/31 [==============================] - 0s 2ms/step - loss: 0.5417 - accuracy: 0.8091 - val_loss: 0.2422 - val_accuracy: 0.9438\n",
      "Epoch 202/1000\n",
      " 1/31 [..............................] - ETA: 0s - loss: 0.6656 - accuracy: 0.7578\n",
      "Epoch 202: saving model to model/keypoint_classifier/keypoint_classifier.hdf5\n",
      "31/31 [==============================] - 0s 2ms/step - loss: 0.5825 - accuracy: 0.7858 - val_loss: 0.2490 - val_accuracy: 0.9423\n",
      "Epoch 203/1000\n",
      " 1/31 [..............................] - ETA: 0s - loss: 0.6580 - accuracy: 0.7656\n",
      "Epoch 203: saving model to model/keypoint_classifier/keypoint_classifier.hdf5\n",
      "31/31 [==============================] - 0s 2ms/step - loss: 0.5767 - accuracy: 0.7863 - val_loss: 0.2487 - val_accuracy: 0.9385\n",
      "Epoch 204/1000\n",
      " 1/31 [..............................] - ETA: 0s - loss: 0.5940 - accuracy: 0.7812\n",
      "Epoch 204: saving model to model/keypoint_classifier/keypoint_classifier.hdf5\n",
      "31/31 [==============================] - 0s 2ms/step - loss: 0.5729 - accuracy: 0.7907 - val_loss: 0.2501 - val_accuracy: 0.9446\n",
      "Epoch 205/1000\n",
      " 1/31 [..............................] - ETA: 0s - loss: 0.5102 - accuracy: 0.7734\n",
      "Epoch 205: saving model to model/keypoint_classifier/keypoint_classifier.hdf5\n",
      "31/31 [==============================] - 0s 2ms/step - loss: 0.5780 - accuracy: 0.7894 - val_loss: 0.2561 - val_accuracy: 0.9438\n",
      "Epoch 206/1000\n",
      " 1/31 [..............................] - ETA: 0s - loss: 0.6496 - accuracy: 0.7500\n",
      "Epoch 206: saving model to model/keypoint_classifier/keypoint_classifier.hdf5\n",
      "31/31 [==============================] - 0s 2ms/step - loss: 0.5880 - accuracy: 0.7871 - val_loss: 0.2483 - val_accuracy: 0.9438\n",
      "Epoch 207/1000\n",
      " 1/31 [..............................] - ETA: 0s - loss: 0.5945 - accuracy: 0.7656\n",
      "Epoch 207: saving model to model/keypoint_classifier/keypoint_classifier.hdf5\n",
      "31/31 [==============================] - 0s 2ms/step - loss: 0.5593 - accuracy: 0.8007 - val_loss: 0.2472 - val_accuracy: 0.9431\n",
      "Epoch 208/1000\n",
      " 1/31 [..............................] - ETA: 0s - loss: 0.4992 - accuracy: 0.8281\n",
      "Epoch 208: saving model to model/keypoint_classifier/keypoint_classifier.hdf5\n",
      "31/31 [==============================] - 0s 2ms/step - loss: 0.5471 - accuracy: 0.8014 - val_loss: 0.2414 - val_accuracy: 0.9423\n",
      "Epoch 209/1000\n",
      " 1/31 [..............................] - ETA: 0s - loss: 0.6933 - accuracy: 0.7344\n",
      "Epoch 209: saving model to model/keypoint_classifier/keypoint_classifier.hdf5\n",
      "31/31 [==============================] - 0s 2ms/step - loss: 0.6047 - accuracy: 0.7830 - val_loss: 0.2617 - val_accuracy: 0.9392\n",
      "Epoch 210/1000\n",
      " 1/31 [..............................] - ETA: 0s - loss: 0.5507 - accuracy: 0.8125\n",
      "Epoch 210: saving model to model/keypoint_classifier/keypoint_classifier.hdf5\n",
      "31/31 [==============================] - 0s 2ms/step - loss: 0.5814 - accuracy: 0.7976 - val_loss: 0.2542 - val_accuracy: 0.9431\n",
      "Epoch 211/1000\n",
      " 1/31 [..............................] - ETA: 0s - loss: 0.5981 - accuracy: 0.7578\n",
      "Epoch 211: saving model to model/keypoint_classifier/keypoint_classifier.hdf5\n",
      "31/31 [==============================] - 0s 2ms/step - loss: 0.5730 - accuracy: 0.7827 - val_loss: 0.2433 - val_accuracy: 0.9477\n",
      "Epoch 212/1000\n",
      " 1/31 [..............................] - ETA: 0s - loss: 0.6045 - accuracy: 0.7891\n",
      "Epoch 212: saving model to model/keypoint_classifier/keypoint_classifier.hdf5\n",
      "31/31 [==============================] - 0s 2ms/step - loss: 0.5676 - accuracy: 0.7896 - val_loss: 0.2486 - val_accuracy: 0.9408\n",
      "Epoch 213/1000\n",
      " 1/31 [..............................] - ETA: 0s - loss: 0.4678 - accuracy: 0.8281\n",
      "Epoch 213: saving model to model/keypoint_classifier/keypoint_classifier.hdf5\n",
      "31/31 [==============================] - 0s 2ms/step - loss: 0.5819 - accuracy: 0.7840 - val_loss: 0.2515 - val_accuracy: 0.9400\n",
      "Epoch 214/1000\n",
      " 1/31 [..............................] - ETA: 0s - loss: 0.5467 - accuracy: 0.8281\n",
      "Epoch 214: saving model to model/keypoint_classifier/keypoint_classifier.hdf5\n",
      "31/31 [==============================] - 0s 2ms/step - loss: 0.5687 - accuracy: 0.7955 - val_loss: 0.2510 - val_accuracy: 0.9423\n",
      "Epoch 215/1000\n",
      " 1/31 [..............................] - ETA: 0s - loss: 0.4762 - accuracy: 0.8281\n",
      "Epoch 215: saving model to model/keypoint_classifier/keypoint_classifier.hdf5\n",
      "31/31 [==============================] - 0s 2ms/step - loss: 0.5815 - accuracy: 0.7907 - val_loss: 0.2589 - val_accuracy: 0.9369\n",
      "Epoch 216/1000\n",
      " 1/31 [..............................] - ETA: 0s - loss: 0.6723 - accuracy: 0.7656\n",
      "Epoch 216: saving model to model/keypoint_classifier/keypoint_classifier.hdf5\n",
      "31/31 [==============================] - 0s 2ms/step - loss: 0.5948 - accuracy: 0.7896 - val_loss: 0.2642 - val_accuracy: 0.9431\n",
      "Epoch 216: early stopping\n"
     ]
    },
    {
     "data": {
      "text/plain": [
       "<keras.callbacks.History at 0x1b4a5fc70>"
      ]
     },
     "execution_count": 11,
     "metadata": {},
     "output_type": "execute_result"
    }
   ],
   "source": [
    "model.fit(\n",
    "    X_train,\n",
    "    y_train,\n",
    "    epochs=1000,\n",
    "    batch_size=128,\n",
    "    validation_data=(X_test, y_test),\n",
    "    callbacks=[cp_callback, es_callback]\n",
    ")"
   ]
  },
  {
   "cell_type": "code",
   "execution_count": 12,
   "metadata": {
    "colab": {
     "base_uri": "https://localhost:8080/"
    },
    "id": "pxvb2Y299hE3",
    "outputId": "59eb3185-2e37-4b9e-bc9d-ab1b8ac29b7f"
   },
   "outputs": [
    {
     "name": "stdout",
     "output_type": "stream",
     "text": [
      "11/11 [==============================] - 0s 866us/step - loss: 0.2642 - accuracy: 0.9431\n"
     ]
    }
   ],
   "source": [
    "# Model evaluation\n",
    "val_loss, val_acc = model.evaluate(X_test, y_test, batch_size=128)"
   ]
  },
  {
   "cell_type": "code",
   "execution_count": 13,
   "metadata": {
    "id": "RBkmDeUW9hE4"
   },
   "outputs": [],
   "source": [
    "# Loading the saved model\n",
    "model = tf.keras.models.load_model(model_save_path)"
   ]
  },
  {
   "cell_type": "code",
   "execution_count": 14,
   "metadata": {
    "colab": {
     "base_uri": "https://localhost:8080/"
    },
    "id": "tFz9Tb0I9hE4",
    "outputId": "1c3b3528-54ae-4ee2-ab04-77429211cbef"
   },
   "outputs": [
    {
     "name": "stdout",
     "output_type": "stream",
     "text": [
      "1/1 [==============================] - 0s 54ms/step\n",
      "[8.0993509e-01 1.8622147e-01 3.6750347e-03 1.3102908e-06 8.9128800e-05\n",
      " 7.7880883e-05]\n",
      "0\n"
     ]
    }
   ],
   "source": [
    "# Inference test\n",
    "predict_result = model.predict(np.array([X_test[0]]))\n",
    "print(np.squeeze(predict_result))\n",
    "print(np.argmax(np.squeeze(predict_result)))"
   ]
  },
  {
   "cell_type": "markdown",
   "metadata": {
    "id": "S3U4yNWx9hE4"
   },
   "source": [
    "# Confusion matrix"
   ]
  },
  {
   "cell_type": "code",
   "execution_count": 15,
   "metadata": {
    "colab": {
     "base_uri": "https://localhost:8080/",
     "height": 582
    },
    "id": "AP1V6SCk9hE5",
    "outputId": "08e41a80-7a4a-4619-8125-ecc371368d19"
   },
   "outputs": [
    {
     "name": "stdout",
     "output_type": "stream",
     "text": [
      "41/41 [==============================] - 0s 526us/step\n"
     ]
    },
    {
     "data": {
      "image/png": "[encoded data removed]",
      "text/plain": [
       "<Figure size 700x600 with 2 Axes>"
      ]
     },
     "metadata": {},
     "output_type": "display_data"
    },
    {
     "name": "stdout",
     "output_type": "stream",
     "text": [
      "Classification Report\n",
      "              precision    recall  f1-score   support\n",
      "\n",
      "           0       0.97      0.97      0.97       409\n",
      "           1       0.98      0.96      0.97       375\n",
      "           2       0.93      0.99      0.96       334\n",
      "           3       0.92      0.96      0.94        79\n",
      "           4       0.00      0.00      0.00        35\n",
      "           5       0.73      0.96      0.83        68\n",
      "\n",
      "    accuracy                           0.94      1300\n",
      "   macro avg       0.75      0.81      0.78      1300\n",
      "weighted avg       0.92      0.94      0.93      1300\n",
      "\n"
     ]
    },
    {
     "name": "stderr",
     "output_type": "stream",
     "text": [
      "/usr/local/lib/python3.8/site-packages/sklearn/metrics/_classification.py:1471: UndefinedMetricWarning: Precision and F-score are ill-defined and being set to 0.0 in labels with no predicted samples. Use `zero_division` parameter to control this behavior.\n",
      "  _warn_prf(average, modifier, msg_start, len(result))\n",
      "/usr/local/lib/python3.8/site-packages/sklearn/metrics/_classification.py:1471: UndefinedMetricWarning: Precision and F-score are ill-defined and being set to 0.0 in labels with no predicted samples. Use `zero_division` parameter to control this behavior.\n",
      "  _warn_prf(average, modifier, msg_start, len(result))\n",
      "/usr/local/lib/python3.8/site-packages/sklearn/metrics/_classification.py:1471: UndefinedMetricWarning: Precision and F-score are ill-defined and being set to 0.0 in labels with no predicted samples. Use `zero_division` parameter to control this behavior.\n",
      "  _warn_prf(average, modifier, msg_start, len(result))\n"
     ]
    }
   ],
   "source": [
    "import pandas as pd\n",
    "import seaborn as sns\n",
    "import matplotlib.pyplot as plt\n",
    "from sklearn.metrics import confusion_matrix, classification_report\n",
    "\n",
    "def print_confusion_matrix(y_true, y_pred, report=True):\n",
    "    labels = sorted(list(set(y_true)))\n",
    "    cmx_data = confusion_matrix(y_true, y_pred, labels=labels)\n",
    "    \n",
    "    df_cmx = pd.DataFrame(cmx_data, index=labels, columns=labels)\n",
    " \n",
    "    fig, ax = plt.subplots(figsize=(7, 6))\n",
    "    sns.heatmap(df_cmx, annot=True, fmt='g' ,square=False)\n",
    "    ax.set_ylim(len(set(y_true)), 0)\n",
    "    plt.show()\n",
    "    \n",
    "    if report:\n",
    "        print('Classification Report')\n",
    "        print(classification_report(y_test, y_pred))\n",
    "\n",
    "Y_pred = model.predict(X_test)\n",
    "y_pred = np.argmax(Y_pred, axis=1)\n",
    "\n",
    "print_confusion_matrix(y_test, y_pred)"
   ]
  },
  {
   "cell_type": "markdown",
   "metadata": {
    "id": "FNP6aqzc9hE5"
   },
   "source": [
    "# Convert to model for Tensorflow-Lite"
   ]
  },
  {
   "cell_type": "code",
   "execution_count": 16,
   "metadata": {
    "id": "ODjnYyld9hE6"
   },
   "outputs": [],
   "source": [
    "# Save as a model dedicated to inference\n",
    "model.save(model_save_path, include_optimizer=False)"
   ]
  },
  {
   "cell_type": "code",
   "execution_count": 17,
   "metadata": {
    "colab": {
     "base_uri": "https://localhost:8080/"
    },
    "id": "zRfuK8Y59hE6",
    "outputId": "a4ca585c-b5d5-4244-8291-8674063209bb"
   },
   "outputs": [
    {
     "name": "stderr",
     "output_type": "stream",
     "text": [
      "2024-02-02 16:16:44.426724: I tensorflow/core/common_runtime/executor.cc:1197] [/device:CPU:0] (DEBUG INFO) Executor start aborting (this does not indicate an error and you can ignore this message): INVALID_ARGUMENT: You must feed a value for placeholder tensor 'input_1' with dtype float and shape [?,42]\n",
      "\t [[{{node input_1}}]]\n",
      "2024-02-02 16:16:44.464942: I tensorflow/core/common_runtime/executor.cc:1197] [/device:CPU:0] (DEBUG INFO) Executor start aborting (this does not indicate an error and you can ignore this message): INVALID_ARGUMENT: You must feed a value for placeholder tensor 'inputs' with dtype float and shape [?,42]\n",
      "\t [[{{node inputs}}]]\n",
      "2024-02-02 16:16:44.473965: I tensorflow/core/common_runtime/executor.cc:1197] [/device:CPU:0] (DEBUG INFO) Executor start aborting (this does not indicate an error and you can ignore this message): INVALID_ARGUMENT: You must feed a value for placeholder tensor 'input_1' with dtype float and shape [?,42]\n",
      "\t [[{{node input_1}}]]\n",
      "2024-02-02 16:16:44.491037: I tensorflow/core/common_runtime/executor.cc:1197] [/device:CPU:0] (DEBUG INFO) Executor start aborting (this does not indicate an error and you can ignore this message): INVALID_ARGUMENT: You must feed a value for placeholder tensor 'inputs' with dtype float and shape [?,42]\n",
      "\t [[{{node inputs}}]]\n",
      "2024-02-02 16:16:44.500386: I tensorflow/core/common_runtime/executor.cc:1197] [/device:CPU:0] (DEBUG INFO) Executor start aborting (this does not indicate an error and you can ignore this message): INVALID_ARGUMENT: You must feed a value for placeholder tensor 'inputs' with dtype float and shape [?,20]\n",
      "\t [[{{node inputs}}]]\n",
      "2024-02-02 16:16:44.518391: I tensorflow/core/common_runtime/executor.cc:1197] [/device:CPU:0] (DEBUG INFO) Executor start aborting (this does not indicate an error and you can ignore this message): INVALID_ARGUMENT: You must feed a value for placeholder tensor 'inputs' with dtype float and shape [?,42]\n",
      "\t [[{{node inputs}}]]\n",
      "2024-02-02 16:16:44.581041: I tensorflow/core/common_runtime/executor.cc:1197] [/device:CPU:0] (DEBUG INFO) Executor start aborting (this does not indicate an error and you can ignore this message): INVALID_ARGUMENT: You must feed a value for placeholder tensor 'inputs' with dtype float and shape [?,42]\n",
      "\t [[{{node inputs}}]]\n",
      "2024-02-02 16:16:44.617937: I tensorflow/core/common_runtime/executor.cc:1197] [/device:CPU:0] (DEBUG INFO) Executor start aborting (this does not indicate an error and you can ignore this message): INVALID_ARGUMENT: You must feed a value for placeholder tensor 'inputs' with dtype float and shape [?,42]\n",
      "\t [[{{node inputs}}]]\n",
      "2024-02-02 16:16:44.639427: I tensorflow/core/common_runtime/executor.cc:1197] [/device:CPU:0] (DEBUG INFO) Executor start aborting (this does not indicate an error and you can ignore this message): INVALID_ARGUMENT: You must feed a value for placeholder tensor 'inputs' with dtype float and shape [?,20]\n",
      "\t [[{{node inputs}}]]\n",
      "WARNING:absl:Found untraced functions such as _update_step_xla while saving (showing 1 of 1). These functions will not be directly callable after loading.\n"
     ]
    },
    {
     "name": "stdout",
     "output_type": "stream",
     "text": [
      "INFO:tensorflow:Assets written to: /var/folders/l0/7y17nx9n1yzgd1wwwv_sqpjc0000gn/T/tmpqpbo8t0z/assets\n"
     ]
    },
    {
     "name": "stderr",
     "output_type": "stream",
     "text": [
      "INFO:tensorflow:Assets written to: /var/folders/l0/7y17nx9n1yzgd1wwwv_sqpjc0000gn/T/tmpqpbo8t0z/assets\n",
      "2024-02-02 16:16:46.527899: W tensorflow/compiler/mlir/lite/python/tf_tfl_flatbuffer_helpers.cc:364] Ignored output_format.\n",
      "2024-02-02 16:16:46.527920: W tensorflow/compiler/mlir/lite/python/tf_tfl_flatbuffer_helpers.cc:367] Ignored drop_control_dependency.\n",
      "2024-02-02 16:16:46.528284: I tensorflow/cc/saved_model/reader.cc:45] Reading SavedModel from: /var/folders/l0/7y17nx9n1yzgd1wwwv_sqpjc0000gn/T/tmpqpbo8t0z\n",
      "2024-02-02 16:16:46.529322: I tensorflow/cc/saved_model/reader.cc:89] Reading meta graph with tags { serve }\n",
      "2024-02-02 16:16:46.529331: I tensorflow/cc/saved_model/reader.cc:130] Reading SavedModel debug info (if present) from: /var/folders/l0/7y17nx9n1yzgd1wwwv_sqpjc0000gn/T/tmpqpbo8t0z\n",
      "2024-02-02 16:16:46.533566: I tensorflow/cc/saved_model/loader.cc:231] Restoring SavedModel bundle.\n",
      "2024-02-02 16:16:46.566405: I tensorflow/cc/saved_model/loader.cc:215] Running initialization op on SavedModel bundle at path: /var/folders/l0/7y17nx9n1yzgd1wwwv_sqpjc0000gn/T/tmpqpbo8t0z\n",
      "2024-02-02 16:16:46.575726: I tensorflow/cc/saved_model/loader.cc:314] SavedModel load for tags { serve }; Status: success: OK. Took 47441 microseconds.\n"
     ]
    },
    {
     "data": {
      "text/plain": [
       "6632"
      ]
     },
     "execution_count": 17,
     "metadata": {},
     "output_type": "execute_result"
    }
   ],
   "source": [
    "# Transform model (quantization)\n",
    "\n",
    "converter = tf.lite.TFLiteConverter.from_keras_model(model)\n",
    "converter.optimizations = [tf.lite.Optimize.DEFAULT]\n",
    "tflite_quantized_model = converter.convert()\n",
    "\n",
    "open(tflite_save_path, 'wb').write(tflite_quantized_model)"
   ]
  },
  {
   "cell_type": "markdown",
   "metadata": {
    "id": "CHBPBXdx9hE6"
   },
   "source": [
    "# Inference test"
   ]
  },
  {
   "cell_type": "code",
   "execution_count": 18,
   "metadata": {
    "id": "mGAzLocO9hE7"
   },
   "outputs": [
    {
     "name": "stderr",
     "output_type": "stream",
     "text": [
      "INFO: Created TensorFlow Lite XNNPACK delegate for CPU.\n"
     ]
    }
   ],
   "source": [
    "interpreter = tf.lite.Interpreter(model_path=tflite_save_path)\n",
    "interpreter.allocate_tensors()"
   ]
  },
  {
   "cell_type": "code",
   "execution_count": 19,
   "metadata": {
    "id": "oQuDK8YS9hE7"
   },
   "outputs": [],
   "source": [
    "# Get I / O tensor\n",
    "input_details = interpreter.get_input_details()\n",
    "output_details = interpreter.get_output_details()"
   ]
  },
  {
   "cell_type": "code",
   "execution_count": 20,
   "metadata": {
    "id": "2_ixAf_l9hE7"
   },
   "outputs": [],
   "source": [
    "interpreter.set_tensor(input_details[0]['index'], np.array([X_test[0]]))"
   ]
  },
  {
   "cell_type": "code",
   "execution_count": 21,
   "metadata": {
    "colab": {
     "base_uri": "https://localhost:8080/"
    },
    "id": "s4FoAnuc9hE7",
    "outputId": "91f18257-8d8b-4ef3-c558-e9b5f94fabbf",
    "scrolled": true
   },
   "outputs": [
    {
     "name": "stdout",
     "output_type": "stream",
     "text": [
      "CPU times: user 219 µs, sys: 63 µs, total: 282 µs\n",
      "Wall time: 239 µs\n"
     ]
    }
   ],
   "source": [
    "%%time\n",
    "# Inference implementation\n",
    "interpreter.invoke()\n",
    "tflite_results = interpreter.get_tensor(output_details[0]['index'])"
   ]
  },
  {
   "cell_type": "code",
   "execution_count": 22,
   "metadata": {
    "colab": {
     "base_uri": "https://localhost:8080/"
    },
    "id": "vONjp19J9hE8",
    "outputId": "77205e24-fd00-42c4-f7b6-e06e527c2cba"
   },
   "outputs": [
    {
     "name": "stdout",
     "output_type": "stream",
     "text": [
      "[8.0993515e-01 1.8622148e-01 3.6750280e-03 1.3102896e-06 8.9128713e-05\n",
      " 7.7880737e-05]\n",
      "0\n"
     ]
    }
   ],
   "source": [
    "print(np.squeeze(tflite_results))\n",
    "print(np.argmax(np.squeeze(tflite_results)))"
   ]
  }
 ],
 "metadata": {
  "accelerator": "GPU",
  "colab": {
   "collapsed_sections": [],
   "name": "keypoint_classification_EN.ipynb",
   "provenance": [],
   "toc_visible": true
  },
  "kernelspec": {
   "display_name": "Python 3 (ipykernel)",
   "language": "python",
   "name": "python3"
  },
  "language_info": {
   "codemirror_mode": {
    "name": "ipython",
    "version": 3
   },
   "file_extension": ".py",
   "mimetype": "text/x-python",
   "name": "python",
   "nbconvert_exporter": "python",
   "pygments_lexer": "ipython3",
   "version": "3.8.18"
  }
 },
 "nbformat": 4,
 "nbformat_minor": 4
}
